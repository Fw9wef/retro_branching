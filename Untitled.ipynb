{
 "cells": [
  {
   "cell_type": "code",
   "execution_count": 1,
   "id": "19a0ee2a",
   "metadata": {},
   "outputs": [],
   "source": [
    "from retro_branching.utils import gen_co_name, ExploreThenStrongBranch, PureStrongBranch, seed_stochastic_modules_globally\n",
    "from retro_branching.scip_params import gasse_2019_scip_params, default_scip_params\n",
    "\n",
    "import ecole\n",
    "\n",
    "import gzip\n",
    "import pickle\n",
    "import numpy as np\n",
    "from pathlib import Path\n",
    "import time\n",
    "import os\n",
    "import glob\n",
    "import random"
   ]
  },
  {
   "cell_type": "code",
   "execution_count": 2,
   "id": "d2bcaf62",
   "metadata": {},
   "outputs": [
    {
     "data": {
      "text/plain": [
       "{'separating/maxrounds': 0,\n",
       " 'presolving/maxrestarts': 0,\n",
       " 'limits/time': 1200,\n",
       " 'timing/clocktype': 2,\n",
       " 'limits/gap': 0.0003,\n",
       " 'limits/nodes': -1}"
      ]
     },
     "execution_count": 2,
     "metadata": {},
     "output_type": "execute_result"
    }
   ],
   "source": [
    "gasse_2019_scip_params"
   ]
  },
  {
   "cell_type": "code",
   "execution_count": 19,
   "id": "bf67708e",
   "metadata": {},
   "outputs": [],
   "source": [
    "ecole.instance.SAPGenerator?"
   ]
  },
  {
   "cell_type": "code",
   "execution_count": 2,
   "id": "fdefeab8",
   "metadata": {},
   "outputs": [],
   "source": [
    "instances = ecole.instance.SAPGenerator()"
   ]
  },
  {
   "cell_type": "code",
   "execution_count": 3,
   "id": "0041db03",
   "metadata": {},
   "outputs": [],
   "source": [
    "scip_params = gasse_2019_scip_params\n",
    "\n",
    "env = ecole.environment.Branching(observation_function=(ExploreThenStrongBranch(expert_probability=0.05), \n",
    "                                                                ecole.observation.NodeBipartite()), \n",
    "                                          scip_params=scip_params)"
   ]
  },
  {
   "cell_type": "code",
   "execution_count": 4,
   "id": "002d0434",
   "metadata": {},
   "outputs": [],
   "source": [
    "instance = next(instances)\n",
    "observation, action_set, a, done, b = env.reset(instance)"
   ]
  },
  {
   "cell_type": "code",
   "execution_count": 8,
   "id": "b3fd1b98",
   "metadata": {},
   "outputs": [
    {
     "data": {
      "text/plain": [
       "array([ 147,  211,  469,  578,  755,  962, 1118, 1295, 1418, 1467, 1687,\n",
       "       1835, 2080, 2182, 2230, 2379, 2467, 2520, 2739, 2805, 3254, 3314,\n",
       "       3498, 3517, 3765, 3822, 4002, 4328, 4564, 4827, 5022, 5303, 5352,\n",
       "       5413, 5564, 5827, 5902, 5913, 6271, 6312, 6404, 6548, 6557, 6610,\n",
       "       6690, 6759], dtype=uint64)"
      ]
     },
     "execution_count": 8,
     "metadata": {},
     "output_type": "execute_result"
    }
   ],
   "source": [
    "action_set"
   ]
  },
  {
   "cell_type": "code",
   "execution_count": 17,
   "id": "c34cbcea",
   "metadata": {},
   "outputs": [],
   "source": [
    "env.step?"
   ]
  },
  {
   "cell_type": "code",
   "execution_count": 21,
   "id": "94f2c4da",
   "metadata": {},
   "outputs": [
    {
     "data": {
      "text/plain": [
       "3600"
      ]
     },
     "execution_count": 21,
     "metadata": {},
     "output_type": "execute_result"
    }
   ],
   "source": [
    "scip_params['limits/time'] = 30"
   ]
  },
  {
   "cell_type": "code",
   "execution_count": null,
   "id": "f840da91",
   "metadata": {},
   "outputs": [],
   "source": []
  },
  {
   "cell_type": "code",
   "execution_count": null,
   "id": "65031e5c",
   "metadata": {},
   "outputs": [],
   "source": []
  },
  {
   "cell_type": "code",
   "execution_count": 25,
   "id": "56a7dcf7",
   "metadata": {},
   "outputs": [
    {
     "name": "stderr",
     "output_type": "stream",
     "text": [
      "100%|██████████████████████████████████████████████████████████████████████████████████████████████████████████████████████████████████████████████████████████████████████████████████████████████████| 69006/69006 [11:10<00:00, 102.85it/s]\n"
     ]
    }
   ],
   "source": [
    "from tqdm import tqdm\n",
    "\n",
    "path = './outputs/crabs_12_20_35/dataset/'\n",
    "files = [os.path.join(path, x) for x in os.listdir(path) if '.pkl' in x]\n",
    "bad_files = []\n",
    "for file in tqdm(files):\n",
    "    with gzip.open(file, 'rb') as f:\n",
    "        try:\n",
    "            a = pickle.load(f)\n",
    "        except:\n",
    "            bad_files.append(file)"
   ]
  },
  {
   "cell_type": "code",
   "execution_count": 26,
   "id": "9bcd2201",
   "metadata": {},
   "outputs": [
    {
     "data": {
      "text/plain": [
       "5"
      ]
     },
     "execution_count": 26,
     "metadata": {},
     "output_type": "execute_result"
    }
   ],
   "source": [
    "len(bad_files)"
   ]
  },
  {
   "cell_type": "code",
   "execution_count": 27,
   "id": "00ea263a",
   "metadata": {},
   "outputs": [
    {
     "data": {
      "text/plain": [
       "['./outputs/crabs_12_20_35/dataset/sample_16468.pkl',\n",
       " './outputs/crabs_12_20_35/dataset/sample_69061.pkl',\n",
       " './outputs/crabs_12_20_35/dataset/sample_69062.pkl',\n",
       " './outputs/crabs_12_20_35/dataset/sample_3.pkl',\n",
       " './outputs/crabs_12_20_35/dataset/sample_16738.pkl']"
      ]
     },
     "execution_count": 27,
     "metadata": {},
     "output_type": "execute_result"
    }
   ],
   "source": [
    "bad_files"
   ]
  },
  {
   "cell_type": "code",
   "execution_count": 28,
   "id": "ed8ed8aa",
   "metadata": {},
   "outputs": [],
   "source": [
    "for file in bad_files:\n",
    "    os.remove(file)"
   ]
  },
  {
   "cell_type": "code",
   "execution_count": null,
   "id": "f1eecf6d",
   "metadata": {},
   "outputs": [],
   "source": []
  }
 ],
 "metadata": {
  "kernelspec": {
   "display_name": "Python 3 (ipykernel)",
   "language": "python",
   "name": "python3"
  },
  "language_info": {
   "codemirror_mode": {
    "name": "ipython",
    "version": 3
   },
   "file_extension": ".py",
   "mimetype": "text/x-python",
   "name": "python",
   "nbconvert_exporter": "python",
   "pygments_lexer": "ipython3",
   "version": "3.7.13"
  }
 },
 "nbformat": 4,
 "nbformat_minor": 5
}
