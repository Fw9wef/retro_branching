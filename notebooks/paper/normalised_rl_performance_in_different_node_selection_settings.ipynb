{
 "cells": [
  {
   "cell_type": "code",
   "execution_count": 1,
   "id": "e2b86874",
   "metadata": {},
   "outputs": [],
   "source": [
    "%load_ext autoreload\n",
    "%autoreload\n",
    "\n",
    "from retro_branching.utils import get_most_recent_checkpoint_foldername, PlotAesthetics\n",
    "\n",
    "import glob\n",
    "import gzip\n",
    "import pickle\n",
    "from collections import defaultdict\n",
    "import copy\n",
    "import numpy as np\n",
    "import scipy.stats as st\n",
    "import math\n",
    "import sigfig\n",
    "\n",
    "import matplotlib.pyplot as plt\n",
    "import seaborn as sns\n",
    "\n",
    "import pandas as pd\n",
    "from tabulate import tabulate"
   ]
  },
  {
   "cell_type": "code",
   "execution_count": 47,
   "id": "7c666d02",
   "metadata": {},
   "outputs": [],
   "source": [
    "n_rows = 500\n",
    "n_cols = 1000\n",
    "\n",
    "scip_params = [\n",
    "                'gasse_2019', \n",
    "                'dfs',\n",
    "                'bfs',\n",
    "                ]\n",
    "\n",
    "agent = 'dqn_gnn_1481_checkpoint_166'\n",
    "AGENT_NAME = 'Retro'\n",
    "\n",
    "BASELINE = 'pseudocost'\n",
    "# BASELINE = 'gnn_361_checkpoint_139'\n",
    "\n",
    "verbose = True"
   ]
  },
  {
   "cell_type": "code",
   "execution_count": 48,
   "id": "bd0975df",
   "metadata": {},
   "outputs": [],
   "source": [
    "scip_param_to_display_name = {\n",
    "    'gasse_2019': 'Default',\n",
    "    'dfs': 'DFS',\n",
    "    'bfs': 'BFS'\n",
    "}"
   ]
  },
  {
   "cell_type": "code",
   "execution_count": 49,
   "id": "19974929",
   "metadata": {},
   "outputs": [
    {
     "data": {
      "text/plain": [
       "{'Retro-Default': '/scratch/datasets/retro_branching/instances/set_covering_n_rows_500_n_cols_1000/scip_gasse_2019/baselines/dqn_gnn_1481_checkpoint_166/rl_validator/rl_validator_1/',\n",
       " 'pseudocost-Default': '/scratch/datasets/retro_branching/instances/set_covering_n_rows_500_n_cols_1000/scip_gasse_2019/baselines/pseudocost/rl_validator/rl_validator_1/',\n",
       " 'Retro-DFS': '/scratch/datasets/retro_branching/instances/set_covering_n_rows_500_n_cols_1000/scip_dfs/baselines/dqn_gnn_1481_checkpoint_166/rl_validator/rl_validator_1/',\n",
       " 'pseudocost-DFS': '/scratch/datasets/retro_branching/instances/set_covering_n_rows_500_n_cols_1000/scip_dfs/baselines/pseudocost/rl_validator/rl_validator_1/',\n",
       " 'Retro-BFS': '/scratch/datasets/retro_branching/instances/set_covering_n_rows_500_n_cols_1000/scip_bfs/baselines/dqn_gnn_1481_checkpoint_166/rl_validator/rl_validator_1/',\n",
       " 'pseudocost-BFS': '/scratch/datasets/retro_branching/instances/set_covering_n_rows_500_n_cols_1000/scip_bfs/baselines/pseudocost/rl_validator/rl_validator_1/'}"
      ]
     },
     "metadata": {},
     "output_type": "display_data"
    }
   ],
   "source": [
    "agent_to_path = {}\n",
    "for scip in scip_params:\n",
    "    agent_to_path[AGENT_NAME+f'-{scip_param_to_display_name[scip]}'] = f'/scratch/datasets/retro_branching/instances/set_covering_n_rows_{n_rows}_n_cols_{n_cols}/scip_{scip}/baselines/dqn_gnn_1481_checkpoint_166/rl_validator/rl_validator_1/'\n",
    "    agent_to_path[f'{BASELINE}-{scip_param_to_display_name[scip]}'] = f'/scratch/datasets/retro_branching/instances/set_covering_n_rows_{n_rows}_n_cols_{n_cols}/scip_{scip}/baselines/{BASELINE}/rl_validator/rl_validator_1/'\n",
    "display(agent_to_path)"
   ]
  },
  {
   "cell_type": "code",
   "execution_count": 50,
   "id": "77d28d6c",
   "metadata": {},
   "outputs": [
    {
     "name": "stdout",
     "output_type": "stream",
     "text": [
      "Num evaluation instances solved in Retro-Default agent log file: 100\n",
      "Num evaluation instances solved in pseudocost-Default agent log file: 100\n",
      "Num evaluation instances solved in Retro-DFS agent log file: 100\n",
      "Num evaluation instances solved in pseudocost-DFS agent log file: 100\n",
      "Num evaluation instances solved in Retro-BFS agent log file: 100\n",
      "Num evaluation instances solved in pseudocost-BFS agent log file: 100\n"
     ]
    }
   ],
   "source": [
    "# load agent logs\n",
    "agent_to_log = {}\n",
    "agent_name_to_display_name = {}\n",
    "for display_name, path in agent_to_path.items():\n",
    "    path += get_most_recent_checkpoint_foldername(path)\n",
    "    with gzip.open(*glob.glob(path+'/*log.pkl'), 'rb') as f:\n",
    "        log = pickle.load(f)\n",
    "    _agent_name = log['agent_names'][0]\n",
    "    scip = display_name.split('-')[-1]\n",
    "    agent_name = f'{_agent_name}-{scip}'\n",
    "    log[agent_name] = copy.deepcopy(log[_agent_name])\n",
    "#     agent_name += f'-{display_name.split('-')[-1]}'\n",
    "    agent_to_log[agent_name] = log\n",
    "    agent_name_to_display_name[agent_name] = display_name\n",
    "    \n",
    "    num_instances = len(log[agent_name][\"num_nodes\"])\n",
    "    print(f'Num evaluation instances solved in {display_name} agent log file: {num_instances}')"
   ]
  },
  {
   "cell_type": "code",
   "execution_count": 51,
   "id": "025d4301",
   "metadata": {},
   "outputs": [
    {
     "name": "stdout",
     "output_type": "stream",
     "text": [
      "{'dqn_gnn_1481_checkpoint_166-Default': defaultdict(<function <dictcomp>.<lambda> at 0x7fdd18a88950>, {'num_nodes': [42, 14, 6, 52, 6, 15, 20, 68, 51, 18, 50, 2, 69, 6, 14, 54, 24, 16, 14, 104, 38, 148, 60, 142, 57, 10, 50, 20, 16, 10, 15, 8, 62, 20, 7, 10, 58, 183, 14, 60, 156, 16, 6, 10, 161, 4, 22, 12, 52, 26, 68, 98, 82, 70, 68, 220, 58, 8, 69, 8, 203, 16, 146, 62, 24, 88, 53, 34, 10, 14, 8, 104, 258, 44, 48, 40, 8, 4, 16, 84, 58, 80, 12, 92, 52, 6, 16, 46, 26, 214, 10, 20, 14, 177, 8, 18, 28, 12, 22, 28], 'lp_iterations': [2990, 683, 209, 1764, 292, 918, 704, 3650, 4076, 1473, 3554, 65, 3849, 163, 930, 3690, 1862, 1017, 796, 5351, 3630, 8356, 4617, 6788, 4929, 387, 2174, 750, 935, 345, 763, 96, 3328, 803, 369, 334, 5259, 15634, 408, 4330, 8304, 594, 369, 436, 11978, 102, 1267, 426, 2759, 1021, 4436, 7004, 3416, 5002, 5896, 15814, 2087, 268, 8248, 588, 12778, 1167, 7898, 3650, 1280, 3772, 3324, 2070, 413, 425, 367, 7473, 16664, 5195, 2023, 2087, 255, 168, 550, 4381, 3176, 3057, 392, 5849, 8182, 249, 1156, 1928, 1007, 12592, 511, 1198, 555, 16286, 286, 952, 1089, 709, 842, 1697]}), 'pseudocost-Default': defaultdict(<function <dictcomp>.<lambda> at 0x7fdd18a889e0>, {'num_nodes': [50, 18, 8, 66, 6, 13, 10, 140, 76, 32, 114, 2, 59, 6, 30, 88, 35, 18, 20, 103, 50, 112, 80, 498, 72, 22, 92, 18, 26, 4, 29, 4, 54, 24, 10, 10, 86, 350, 18, 90, 230, 14, 8, 8, 273, 4, 32, 12, 78, 42, 86, 148, 96, 126, 156, 278, 148, 8, 205, 18, 282, 44, 248, 188, 26, 194, 100, 66, 16, 16, 12, 124, 460, 62, 68, 64, 12, 4, 22, 214, 104, 156, 14, 138, 88, 6, 44, 54, 36, 260, 10, 26, 22, 515, 8, 30, 26, 14, 32, 38], 'lp_iterations': [2337, 907, 280, 2533, 291, 752, 411, 6776, 3544, 1743, 5553, 57, 4051, 116, 933, 3958, 2209, 1182, 1017, 3573, 3485, 4826, 6399, 15109, 3592, 616, 3017, 725, 1001, 264, 1037, 61, 3462, 864, 417, 347, 3688, 17287, 516, 4094, 7711, 414, 406, 406, 12194, 182, 1742, 363, 4005, 1553, 4667, 7991, 4225, 5286, 7612, 15279, 3788, 168, 13990, 535, 13782, 1526, 12493, 5961, 965, 6022, 4352, 2886, 487, 465, 527, 6847, 20128, 3495, 3111, 3370, 285, 168, 748, 5456, 3971, 4226, 354, 6136, 8068, 329, 2164, 2106, 2042, 12500, 542, 1202, 484, 32696, 232, 1167, 1268, 763, 969, 2081]}), 'dqn_gnn_1481_checkpoint_166-DFS': defaultdict(<function <dictcomp>.<lambda> at 0x7fdd18a88a70>, {'num_nodes': [42, 16, 6, 52, 6, 18, 16, 62, 47, 16, 58, 2, 67, 6, 14, 62, 24, 20, 14, 127, 38, 134, 68, 136, 67, 10, 52, 24, 18, 10, 16, 8, 54, 22, 10, 10, 72, 261, 14, 58, 144, 16, 6, 10, 227, 4, 26, 12, 50, 28, 68, 130, 76, 87, 70, 248, 59, 8, 83, 16, 255, 19, 150, 60, 24, 92, 65, 36, 10, 12, 8, 106, 250, 50, 54, 49, 8, 4, 16, 78, 62, 74, 12, 110, 137, 6, 18, 54, 26, 192, 12, 20, 12, 238, 8, 22, 30, 12, 20, 37], 'lp_iterations': [1652, 724, 202, 1744, 290, 816, 608, 2788, 2189, 1303, 2447, 65, 3163, 163, 827, 2531, 1563, 1222, 829, 3967, 1872, 5427, 3142, 4289, 2609, 369, 1455, 766, 888, 345, 689, 82, 2055, 1045, 481, 307, 3158, 12205, 377, 1861, 5162, 575, 369, 456, 9762, 98, 1201, 426, 1925, 985, 2799, 5118, 2628, 3472, 3434, 11064, 1575, 270, 4919, 743, 10774, 1004, 6241, 2357, 998, 2651, 2507, 1297, 408, 389, 368, 5403, 11980, 2791, 1679, 1568, 258, 168, 504, 2670, 2259, 2040, 392, 4142, 6300, 264, 968, 1646, 1011, 6371, 527, 1071, 460, 14170, 318, 1135, 1002, 664, 819, 1387]}), 'pseudocost-DFS': defaultdict(<function <dictcomp>.<lambda> at 0x7fdd18a88b00>, {'num_nodes': [383, 18, 8, 58, 6, 16, 10, 134, 87, 32, 66, 2, 116, 6, 20, 88, 32, 18, 20, 145, 48, 184, 81, 398, 93, 26, 82, 26, 30, 4, 20, 4, 56, 26, 10, 12, 94, 476, 20, 72, 218, 14, 8, 8, 299, 4, 28, 12, 92, 38, 118, 134, 92, 103, 206, 324, 170, 8, 272, 25, 388, 40, 182, 162, 26, 164, 115, 46, 14, 22, 12, 120, 382, 54, 78, 77, 12, 4, 20, 166, 84, 152, 14, 152, 93, 6, 44, 72, 28, 214, 10, 22, 26, 468, 8, 32, 26, 16, 28, 51], 'lp_iterations': [10288, 770, 280, 1731, 291, 728, 422, 4375, 2504, 1609, 2746, 57, 3785, 116, 729, 3279, 1900, 1138, 959, 3252, 2226, 5037, 3526, 9938, 3312, 634, 1876, 710, 1017, 264, 765, 59, 2070, 964, 365, 311, 3065, 16715, 514, 2317, 6087, 386, 406, 398, 10315, 178, 1455, 392, 2677, 1098, 3669, 5015, 2823, 4056, 6633, 11555, 3160, 168, 11418, 737, 12527, 1444, 6328, 3795, 925, 3684, 3354, 1533, 473, 486, 436, 5501, 16011, 2514, 1898, 2090, 284, 168, 609, 4065, 3068, 3313, 329, 4682, 4465, 325, 1422, 1944, 1169, 6580, 527, 1090, 489, 21711, 232, 1035, 908, 634, 784, 1536]}), 'dqn_gnn_1481_checkpoint_166-BFS': defaultdict(<function <dictcomp>.<lambda> at 0x7fdd18a88b90>, {'num_nodes': [39, 16, 6, 52, 6, 15, 12, 64, 44, 18, 52, 2, 79, 6, 14, 54, 20, 16, 14, 104, 42, 128, 64, 131, 58, 10, 56, 28, 16, 10, 14, 8, 58, 20, 9, 10, 62, 188, 14, 76, 168, 16, 6, 10, 166, 4, 22, 8, 52, 24, 62, 102, 74, 82, 72, 216, 54, 8, 60, 8, 233, 25, 142, 60, 26, 90, 50, 38, 12, 14, 8, 100, 282, 44, 50, 48, 8, 4, 16, 90, 60, 88, 12, 96, 48, 6, 16, 47, 24, 150, 10, 22, 14, 185, 8, 20, 26, 12, 22, 26], 'lp_iterations': [4657, 733, 209, 2833, 286, 916, 583, 4485, 4680, 1403, 3832, 65, 6255, 161, 897, 3319, 1660, 1134, 809, 8494, 3378, 8238, 5362, 6760, 6173, 387, 2713, 859, 989, 379, 642, 91, 4180, 838, 456, 351, 5155, 16729, 440, 5140, 9496, 693, 369, 472, 12494, 101, 1326, 399, 3522, 910, 5144, 7720, 4599, 7883, 6153, 15000, 2070, 270, 6975, 592, 15867, 1836, 10282, 3962, 1282, 5095, 3407, 2006, 418, 441, 368, 9432, 18206, 4063, 2685, 4004, 257, 168, 539, 5617, 3987, 4269, 433, 6886, 7772, 246, 1232, 2057, 1043, 11568, 489, 1186, 625, 22426, 286, 997, 1039, 709, 860, 1761]}), 'pseudocost-BFS': defaultdict(<function <dictcomp>.<lambda> at 0x7fdd18a88c20>, {'num_nodes': [58, 18, 8, 54, 6, 17, 10, 118, 99, 26, 144, 2, 72, 6, 22, 88, 37, 16, 22, 88, 48, 126, 89, 360, 147, 24, 80, 26, 24, 4, 20, 4, 60, 26, 10, 10, 104, 350, 20, 94, 206, 16, 8, 8, 401, 4, 34, 12, 78, 52, 132, 142, 80, 106, 192, 298, 105, 8, 127, 16, 352, 40, 248, 105, 28, 162, 82, 62, 16, 16, 12, 118, 434, 58, 64, 100, 12, 4, 22, 219, 104, 150, 14, 180, 81, 6, 44, 64, 28, 298, 10, 26, 20, 336, 8, 32, 26, 14, 32, 16], 'lp_iterations': [3449, 893, 282, 2430, 291, 828, 423, 6773, 6038, 1906, 6567, 57, 4534, 116, 829, 5094, 2849, 1351, 1073, 4011, 3465, 5498, 6063, 12953, 6382, 625, 3418, 933, 1448, 264, 1049, 61, 2970, 928, 407, 347, 4313, 18739, 553, 4285, 7932, 455, 406, 427, 19199, 182, 2203, 362, 3863, 1856, 6608, 8641, 3533, 7845, 8206, 16461, 4104, 168, 13774, 517, 17185, 1688, 13966, 3525, 1079, 5914, 4378, 2833, 529, 484, 448, 9790, 22183, 5360, 3106, 3281, 310, 168, 800, 7640, 5484, 4604, 341, 8674, 9123, 325, 1851, 3044, 1334, 14295, 651, 1386, 493, 27452, 233, 1173, 1285, 665, 1322, 998]})}\n"
     ]
    }
   ],
   "source": [
    "# get stats for each agent\n",
    "agent_to_stats = {agent: defaultdict(lambda: 0) for agent in agent_to_log.keys()}\n",
    "for agent, log in agent_to_log.items():\n",
    "    agent_to_stats[agent]['num_nodes'] = [int(np.abs(np.array(nodes)).sum()) for nodes in log[agent]['num_nodes']]\n",
    "    agent_to_stats[agent]['lp_iterations'] = [int(np.abs(np.array(nodes)).sum()) for nodes in log[agent]['lp_iterations']]\n",
    "print(agent_to_stats)"
   ]
  },
  {
   "cell_type": "code",
   "execution_count": 52,
   "id": "ac458fb9",
   "metadata": {},
   "outputs": [
    {
     "data": {
      "text/plain": [
       "dict_keys(['dqn_gnn_1481_checkpoint_166', 'pseudocost'])"
      ]
     },
     "metadata": {},
     "output_type": "display_data"
    },
    {
     "data": {
      "text/plain": [
       "defaultdict(<function __main__.<lambda>()>,\n",
       "            {'dqn_gnn_1481_checkpoint_166': defaultdict(<function __main__.<lambda>.<locals>.<lambda>()>,\n",
       "                         {'Default': defaultdict(<function __main__.<lambda>.<locals>.<lambda>.<locals>.<lambda>()>,\n",
       "                                      {'num_nodes': 50.5,\n",
       "                                       'lp_iterations': 3199.39}),\n",
       "                          'DFS': defaultdict(<function __main__.<lambda>.<locals>.<lambda>.<locals>.<lambda>()>,\n",
       "                                      {'num_nodes': 55.73,\n",
       "                                       'lp_iterations': 2324.57}),\n",
       "                          'BFS': defaultdict(<function __main__.<lambda>.<locals>.<lambda>.<locals>.<lambda>()>,\n",
       "                                      {'num_nodes': 50.81,\n",
       "                                       'lp_iterations': 3626.65})}),\n",
       "             'pseudocost': defaultdict(<function __main__.<lambda>.<locals>.<lambda>()>,\n",
       "                         {'Default': defaultdict(<function __main__.<lambda>.<locals>.<lambda>.<locals>.<lambda>()>,\n",
       "                                      {'num_nodes': 83.56,\n",
       "                                       'lp_iterations': 3819.21}),\n",
       "                          'DFS': defaultdict(<function __main__.<lambda>.<locals>.<lambda>.<locals>.<lambda>()>,\n",
       "                                      {'num_nodes': 88.3,\n",
       "                                       'lp_iterations': 2936.38}),\n",
       "                          'BFS': defaultdict(<function __main__.<lambda>.<locals>.<lambda>.<locals>.<lambda>()>,\n",
       "                                      {'num_nodes': 82.05,\n",
       "                                       'lp_iterations': 4206.37})})})"
      ]
     },
     "metadata": {},
     "output_type": "display_data"
    }
   ],
   "source": [
    "# get stats for each agent\n",
    "agent_to_scip_to_stats = defaultdict(lambda: defaultdict(lambda: defaultdict(lambda: 0)))\n",
    "for _agent, log in agent_to_log.items():\n",
    "    agent, scip = _agent.split('-')\n",
    "    agent_to_scip_to_stats[agent][scip]['num_nodes'] = np.mean([int(np.abs(np.array(nodes)).sum()) for nodes in log[agent]['num_nodes']])\n",
    "    agent_to_scip_to_stats[agent][scip]['lp_iterations'] = np.mean([int(np.abs(np.array(nodes)).sum()) for nodes in log[agent]['lp_iterations']])\n",
    "display(agent_to_scip_to_stats.keys())\n",
    "display(agent_to_scip_to_stats)"
   ]
  },
  {
   "cell_type": "code",
   "execution_count": 53,
   "id": "3ed8d724",
   "metadata": {},
   "outputs": [
    {
     "name": "stdout",
     "output_type": "stream",
     "text": [
      "defaultdict(<function <lambda> at 0x7fda6dd81cb0>, {'Retro-Default': defaultdict(<function <lambda>.<locals>.<lambda> at 0x7fda6d7c6dd0>, {'num_nodes': 0.6043561512685496, 'lp_iterations': 0.8377098928836068}), 'Retro-DFS': defaultdict(<function <lambda>.<locals>.<lambda> at 0x7fdd18d417a0>, {'num_nodes': 0.6311438278595697, 'lp_iterations': 0.7916448143632636}), 'Retro-BFS': defaultdict(<function <lambda>.<locals>.<lambda> at 0x7fdd18d41e60>, {'num_nodes': 0.6192565508836076, 'lp_iterations': 0.862180454881525})})\n"
     ]
    }
   ],
   "source": [
    "# normalise agent stats with baseline\n",
    "normalised_agentscip_to_stats = defaultdict(lambda: defaultdict(lambda: 0))\n",
    "for agent in agent_to_scip_to_stats.keys():\n",
    "    if agent != BASELINE:\n",
    "        for scip in agent_to_scip_to_stats[agent].keys():\n",
    "            agentscip = f'{AGENT_NAME}-{scip}'\n",
    "            for metric in agent_to_scip_to_stats[agent][scip].keys():\n",
    "                normalised_agentscip_to_stats[agentscip][metric] = np.array(agent_to_scip_to_stats[agent][scip][metric]) / np.array(agent_to_scip_to_stats[BASELINE][scip][metric])\n",
    "print(normalised_agentscip_to_stats)"
   ]
  },
  {
   "cell_type": "code",
   "execution_count": 54,
   "id": "54c19604",
   "metadata": {},
   "outputs": [
    {
     "name": "stdout",
     "output_type": "stream",
     "text": [
      "num_nodes 3\n",
      "lp_iterations 3\n",
      "Agent 3\n",
      "+-------------+-----------------+---------------+\n",
      "|   num_nodes |   lp_iterations | Agent         |\n",
      "|-------------+-----------------+---------------|\n",
      "|    0.604356 |        0.83771  | Retro-Default |\n",
      "|    0.631144 |        0.791645 | Retro-DFS     |\n",
      "|    0.619257 |        0.86218  | Retro-BFS     |\n",
      "+-------------+-----------------+---------------+\n"
     ]
    }
   ],
   "source": [
    "# Create dataframes (from above dict) for data manipulation and seaborn plotting (use display_name for legends)\n",
    "_df = defaultdict(list)\n",
    "for agent in normalised_agentscip_to_stats.keys():\n",
    "    for stat in normalised_agentscip_to_stats[agent].keys():\n",
    "        try:\n",
    "            for el in normalised_agentscip_to_stats[agent][stat]:\n",
    "                _df[stat].append(el)\n",
    "        except TypeError:\n",
    "            # non-iterable, is already an element\n",
    "            _df[stat].append(normalised_agentscip_to_stats[agent][stat])\n",
    "\n",
    "for agent in normalised_agentscip_to_stats.keys():\n",
    "    try:\n",
    "        for _ in range(len(normalised_agentscip_to_stats[agent][metric])):\n",
    "            _df['Agent'].append(agent)\n",
    "    except TypeError:\n",
    "        # only one value stored so not iterable\n",
    "        _df['Agent'].append(agent)\n",
    "                        \n",
    "for key, val in _df.items():\n",
    "    print(key, len(val))\n",
    "df = pd.DataFrame(_df)\n",
    "if verbose:\n",
    "    print(tabulate(df, headers='keys', tablefmt='psql', showindex=False))"
   ]
  },
  {
   "cell_type": "code",
   "execution_count": 55,
   "id": "f91e96f3",
   "metadata": {},
   "outputs": [],
   "source": [
    "# config\n",
    "estimator = np.mean # np.mean np.median\n",
    "# estimator = np.median\n",
    "# estimator = st.iqr\n",
    "# estimator = st.gmean\n",
    "# context = 'paper'\n",
    "# style = 'white'\n",
    "# font_scale = 2\n",
    "# palette = 'hls'\n",
    "# ci = 68\n",
    "ci = None\n",
    "errcolor = 'gray'\n",
    "capsize = 0.05\n",
    "\n",
    "# xaxis_label = 'Agent'\n",
    "xaxis_label = ''\n",
    "\n",
    "y_offset = 0 # 165x230\n",
    "# y_offsert = 0.3\n",
    "# y_offset = 5 # 500x1000\n",
    "# y_offset = 150\n",
    "\n",
    "# loc = 'bottom'\n",
    "loc = 'top'\n",
    "\n",
    "ylog = False\n",
    "\n",
    "xlog = False\n",
    "\n",
    "display_values = True\n",
    "\n",
    "# scaling_factor = 0.6\n",
    "# width_scaling_factor = 1\n",
    "# height_scaling_factor = 1\n",
    "scaling_factor = 1\n",
    "# width_scaling_factor = 1\n",
    "width_scaling_factor = 1.4\n",
    "height_scaling_factor = 0.5\n",
    "\n",
    "aesthetics = PlotAesthetics()\n",
    "aesthetics.set_icml_paper_plot_aesthetics()"
   ]
  },
  {
   "cell_type": "code",
   "execution_count": 56,
   "id": "93600b3c",
   "metadata": {},
   "outputs": [],
   "source": [
    "def show_values_on_bars(axs, sigfigs=2, y_offset=0, loc='top'):\n",
    "    def _show_on_single_plot(ax):        \n",
    "        for p in ax.patches:\n",
    "            if loc == 'top':\n",
    "                _x = p.get_x() + p.get_width() / 2\n",
    "    #             _y = p.get_y() + p.get_height()\n",
    "    #             _y = p.get_y() + y_offset\n",
    "                _y = p.get_height() + y_offset\n",
    "                value = sigfig.round(p.get_height(), sigfigs=sigfigs)\n",
    "                ax.text(_x, _y, value, ha=\"center\") \n",
    "            elif loc == 'bottom':\n",
    "                _x = p.get_x() + p.get_width() / 2\n",
    "    #             _y = p.get_y() + p.get_height()\n",
    "                _y = p.get_y() + y_offset\n",
    "                value = sigfig.round(p.get_height(), sigfigs=sigfigs)\n",
    "                ax.text(_x, _y, value, ha=\"center\") \n",
    "            else:\n",
    "                raise Exception(f'Unrecognised loc {loc}')\n",
    "\n",
    "    if isinstance(axs, np.ndarray):\n",
    "        for idx, ax in np.ndenumerate(axs):\n",
    "            _show_on_single_plot(ax)\n",
    "    else:\n",
    "        _show_on_single_plot(axs)"
   ]
  },
  {
   "cell_type": "code",
   "execution_count": 57,
   "id": "8d4056df",
   "metadata": {},
   "outputs": [
    {
     "data": {
      "image/png": "[encoded data removed]",
      "text/plain": [
       "<Figure size 1365x301.292 with 1 Axes>"
      ]
     },
     "metadata": {
      "needs_background": "light"
     },
     "output_type": "display_data"
    },
    {
     "data": {
      "image/png": "[encoded data removed]",
      "text/plain": [
       "<Figure size 1365x301.292 with 1 Axes>"
      ]
     },
     "metadata": {},
     "output_type": "display_data"
    }
   ],
   "source": [
    "# sns.set_theme(font_scale=font_scale,\n",
    "#               context=context,\n",
    "#               style=style,\n",
    "#               palette=palette)\n",
    "\n",
    "f, ax = plt.subplots(figsize=aesthetics.get_standard_fig_size(scaling_factor=scaling_factor, width_scaling_factor=width_scaling_factor, height_scaling_factor=height_scaling_factor))\n",
    "g = sns.barplot(data=df,\n",
    "                x='Agent',\n",
    "                y='num_nodes',\n",
    "                estimator=estimator,\n",
    "                ci=ci,\n",
    "                errcolor=errcolor,\n",
    "                capsize=capsize)\n",
    "g.set_xlabel(xaxis_label)\n",
    "g.set_ylabel('Nodes\\n(Noralised)')\n",
    "ax.tick_params(axis='both', which='major', pad=2)\n",
    "plt.xticks(fontsize=7.5)\n",
    "ax.xaxis.labelpad = 2\n",
    "# ax.xaxis.label.set_size(2)\n",
    "ax.yaxis.labelpad = 2\n",
    "sns.despine(ax=ax) # remove top and right spines\n",
    "if ylog:\n",
    "    g.set(yscale='log')\n",
    "if xlog:\n",
    "    g.set(xscale='log')\n",
    "if display_values:\n",
    "    show_values_on_bars(ax, sigfigs=3, y_offset=y_offset, loc=loc)\n",
    "plt.gcf().patch.set_alpha(0.0)\n",
    "plt.show()\n",
    "\n",
    "f, ax = plt.subplots(figsize=aesthetics.get_standard_fig_size(scaling_factor=scaling_factor, width_scaling_factor=width_scaling_factor, height_scaling_factor=height_scaling_factor))\n",
    "g = sns.barplot(data=df,\n",
    "                x='Agent',\n",
    "                y='lp_iterations',\n",
    "                estimator=estimator,\n",
    "                ci=ci,\n",
    "                errcolor=errcolor,\n",
    "                capsize=capsize)\n",
    "g.set_xlabel(xaxis_label)\n",
    "g.set_ylabel('LP Iterations')\n",
    "if display_values:\n",
    "    show_values_on_bars(ax, sigfigs=3, loc=loc)\n",
    "plt.show()\n",
    "\n",
    "if 'calibrated_inference_time' in df.columns:\n",
    "    f, ax = plt.subplots(figsize=aesthetics.get_standard_fig_size(scaling_factor=scaling_factor, width_scaling_factor=width_scaling_factor, height_scaling_factor=height_scaling_factor))\n",
    "    g = sns.barplot(data=df,\n",
    "                    x='Agent',\n",
    "                    y='calibrated_inference_time',\n",
    "                    estimator=estimator,\n",
    "                    ci=ci,\n",
    "                    errcolor=errcolor,\n",
    "                    capsize=capsize)\n",
    "    g.set_xlabel(xaxis_label)\n",
    "    g.set_ylabel('Cal. Inference Time (s)')\n",
    "    if display_values:\n",
    "        show_values_on_bars(ax, sigfigs=3, loc=loc)\n",
    "    plt.show()\n",
    "\n",
    "if 'calibrated_step_time' in df.columns:\n",
    "    f, ax = plt.subplots(figsize=aesthetics.get_standard_fig_size(scaling_factor=scaling_factor, width_scaling_factor=width_scaling_factor, height_scaling_factor=height_scaling_factor))\n",
    "    g = sns.barplot(data=df,\n",
    "                    x='Agent',\n",
    "                    y='calibrated_step_time',\n",
    "                    estimator=estimator,\n",
    "                    ci=ci,\n",
    "                    errcolor=errcolor,\n",
    "                    capsize=capsize)\n",
    "    g.set_xlabel(xaxis_label)\n",
    "    g.set_ylabel('Cal. Step Time (s)')\n",
    "    if display_values:\n",
    "        show_values_on_bars(ax, sigfigs=3, loc=loc)\n",
    "    plt.show()\n",
    "\n",
    "if 'calibrated_solve_time' in df.columns:\n",
    "    f, ax = plt.subplots(figsize=aesthetics.get_standard_fig_size(scaling_factor=scaling_factor, width_scaling_factor=width_scaling_factor, height_scaling_factor=height_scaling_factor))\n",
    "    g = sns.barplot(data=df,\n",
    "                    x='Agent',\n",
    "                    y='calibrated_solve_time',\n",
    "                    estimator=estimator,\n",
    "                    ci=ci,\n",
    "                    errcolor=errcolor,\n",
    "                    capsize=capsize)\n",
    "    g.set_xlabel(xaxis_label)\n",
    "    g.set_ylabel('Cal. Solve Time (s)')\n",
    "    if display_values:\n",
    "        show_values_on_bars(ax, sigfigs=3, loc=loc)\n",
    "    plt.show()"
   ]
  },
  {
   "cell_type": "code",
   "execution_count": null,
   "id": "2a5c1ed5",
   "metadata": {},
   "outputs": [],
   "source": []
  },
  {
   "cell_type": "code",
   "execution_count": null,
   "id": "105b967b",
   "metadata": {},
   "outputs": [],
   "source": []
  },
  {
   "cell_type": "code",
   "execution_count": null,
   "id": "34ad0b45",
   "metadata": {},
   "outputs": [],
   "source": []
  }
 ],
 "metadata": {
  "kernelspec": {
   "display_name": "rlgnn",
   "language": "python",
   "name": "rlgnn"
  },
  "language_info": {
   "codemirror_mode": {
    "name": "ipython",
    "version": 3
   },
   "file_extension": ".py",
   "mimetype": "text/x-python",
   "name": "python",
   "nbconvert_exporter": "python",
   "pygments_lexer": "ipython3",
   "version": "3.7.10"
  }
 },
 "nbformat": 4,
 "nbformat_minor": 5
}
