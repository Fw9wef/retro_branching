{
 "cells": [
  {
   "cell_type": "code",
   "execution_count": 1,
   "id": "14a1400a",
   "metadata": {},
   "outputs": [
    {
     "data": {
      "text/html": [
       "<pre style=\"white-space:pre;overflow-x:auto;line-height:normal;font-family:Menlo,'DejaVu Sans Mono',consolas,'Courier New',monospace\">Manim Community <span style=\"color: #008000; text-decoration-color: #008000\">v0.15.2</span>\n",
       "\n",
       "</pre>\n"
      ],
      "text/plain": [
       "Manim Community \u001b[32mv0.\u001b[0m\u001b[32m15.2\u001b[0m\n",
       "\n"
      ]
     },
     "metadata": {},
     "output_type": "display_data"
    }
   ],
   "source": [
    "# import ecole\n",
    "\n",
    "# from retro_branching.utils import SearchTree, seed_stochastic_modules_globally\n",
    "# from retro_branching.environments import EcoleBranching\n",
    "# from retro_branching.agents import PseudocostBranchingAgent\n",
    "\n",
    "import networkx as nx\n",
    "from networkx.drawing.nx_pydot import graphviz_layout\n",
    "from networkx.algorithms.shortest_paths.generic import shortest_path\n",
    "from networkx.algorithms.traversal.depth_first_search import dfs_tree\n",
    "import matplotlib.pyplot as plt\n",
    "import seaborn as sns\n",
    "\n",
    "from IPython.display import display\n",
    "\n",
    "import math\n",
    "from ordered_set import OrderedSet\n",
    "import copy\n",
    "from collections import defaultdict\n",
    "\n",
    "import manim as mn"
   ]
  },
  {
   "cell_type": "markdown",
   "id": "c7660511",
   "metadata": {},
   "source": [
    "First, create a graph in `networkx` which we want to visualise with `manim`."
   ]
  },
  {
   "cell_type": "code",
   "execution_count": 2,
   "id": "97b237ff",
   "metadata": {},
   "outputs": [],
   "source": [
    "# seed = 2 # 1\n",
    "# seed_stochastic_modules_globally(default_seed=seed)\n",
    "\n",
    "# agent = PseudocostBranchingAgent()\n",
    "\n",
    "# env = EcoleBranching(observation_function='default',\n",
    "#                      information_function='default',\n",
    "#                      reward_function='default',\n",
    "#                      scip_params='gasse_2019' # default dfs gasse_2019\n",
    "#                     )\n",
    "# env.seed(seed)\n",
    "\n",
    "# ecole.seed(seed)\n",
    "# instances = ecole.instance.SetCoverGenerator(n_rows=200, n_cols=200, density=0.05) # 200x200seed=1 300x300seed=2"
   ]
  },
  {
   "cell_type": "code",
   "execution_count": 3,
   "id": "2d13d25f",
   "metadata": {},
   "outputs": [],
   "source": [
    "# # initialise an instance which is not pre-solved by SCIP\n",
    "# done = True\n",
    "# while done:\n",
    "#     env.seed(seed)\n",
    "#     instance = next(instances)\n",
    "#     agent.before_reset(instance)\n",
    "#     obs, action_set, reward, done, info = env.reset(instance)\n",
    "    \n",
    "# # solve the instance with the brancher\n",
    "# t = 0\n",
    "# tree = SearchTree(env.model)\n",
    "# # tree.render()\n",
    "# while not done:\n",
    "#     # select branching action\n",
    "#     action, action_idx = agent.action_select(action_set, model=env.model, done=done)\n",
    "#     obs, action_set, reward, done, info = env.step(action)\n",
    "    \n",
    "#     # print step info\n",
    "#     m = env.model.as_pyscipopt()\n",
    "#     if len(tree.tree.graph['visited_node_ids']) > 1 and not done:\n",
    "#         prev_node_id = tree.tree.graph['visited_node_ids'][-2]\n",
    "#     else:\n",
    "#         prev_node_id = tree.tree.graph['visited_node_ids'][-1]\n",
    "#     curr_node_id = tree.curr_node_id\n",
    "#     print(f'Step {t} | Nodes added: {abs(int(reward[\"num_nodes\"]))} | primal bound: {m.getPrimalbound()} | dual bound: {m.getDualbound()} | prev_node_id (branched at): {prev_node_id} | next_node_id (not yet branched at): {curr_node_id} | optimum_node_id: {tree.tree.graph[\"optimum_node_ids\"][-1]}\\n')\n",
    "    \n",
    "#     # update search tree\n",
    "#     tree.update_tree(env.model)\n",
    "# #     tree.render()\n",
    "        \n",
    "#     t += 1\n",
    "        \n",
    "# m = env.model.as_pyscipopt()\n",
    "# print(f'\\nFinished | primal bound: {m.getPrimalbound()} | dual bound: {m.getDualbound()} | # nodes: {m.getNTotalNodes()} | Final node: {tree.tree.graph[\"visited_nodes\"][-1]} | Optimum node id: {tree.tree.graph[\"optimum_node_ids\"][-1]}')\n",
    "# print(f'SCIP NTotalNodes: {env.model.as_pyscipopt().getNTotalNodes()}')\n",
    "# tree.render()"
   ]
  },
  {
   "cell_type": "code",
   "execution_count": 4,
   "id": "82a1aa25",
   "metadata": {},
   "outputs": [],
   "source": [
    "# print(tree.tree)"
   ]
  },
  {
   "cell_type": "code",
   "execution_count": 17,
   "id": "63e57f61",
   "metadata": {},
   "outputs": [
    {
     "name": "stderr",
     "output_type": "stream",
     "text": [
      "                                                                               \r"
     ]
    },
    {
     "data": {
      "text/html": [
       "<video src=\"media/jupyter/SquareToCircle@2022-05-25@14-21-21.mp4\" controls autoplay loop style=\"max-width: 60%;\"  >\n",
       "      Your browser does not support the <code>video</code> element.\n",
       "    </video>"
      ],
      "text/plain": [
       "<IPython.core.display.Video object>"
      ]
     },
     "metadata": {},
     "output_type": "display_data"
    }
   ],
   "source": [
    "%%manim -qm -v WARNING SquareToCircle\n",
    "\n",
    "class SquareToCircle(mn.Scene):\n",
    "    def construct(self):\n",
    "        # create shapes\n",
    "        circle = mn.Circle()\n",
    "        square = mn.Square()\n",
    "        \n",
    "        # show shapes\n",
    "        self.play(mn.Create(square))\n",
    "        self.play(mn.Transform(square, circle))\n",
    "        self.play(mn.FadeOut(square))"
   ]
  },
  {
   "cell_type": "code",
   "execution_count": 18,
   "id": "f6a4c0b0-c962-426f-8031-6fd3527c1926",
   "metadata": {},
   "outputs": [
    {
     "name": "stderr",
     "output_type": "stream",
     "text": [
      "                                                                                                     \r"
     ]
    },
    {
     "data": {
      "text/html": [
       "<video src=\"media/jupyter/MovingVertices@2022-05-25@14-21-23.mp4\" controls autoplay loop style=\"max-width: 60%;\"  >\n",
       "      Your browser does not support the <code>video</code> element.\n",
       "    </video>"
      ],
      "text/plain": [
       "<IPython.core.display.Video object>"
      ]
     },
     "metadata": {},
     "output_type": "display_data"
    }
   ],
   "source": [
    "%%manim -qm -v WARNING MovingVertices\n",
    "\n",
    "class MovingVertices(mn.Scene):\n",
    "    def construct(self):\n",
    "        vertices = [1, 2, 3, 4]\n",
    "        edges = [(1, 2), (2, 3), (3, 4), (1, 3), (1, 4)]\n",
    "        g = mn.Graph(vertices, edges)\n",
    "        self.play(mn.Create(g))\n",
    "        self.wait()\n",
    "        self.play(g[1].animate.move_to([1, 1, 0]),\n",
    "                  g[2].animate.move_to([-1, 1, 0]),\n",
    "                  g[3].animate.move_to([1, -1, 0]),\n",
    "                  g[4].animate.move_to([-1, -1, 0]))\n",
    "        self.wait()"
   ]
  },
  {
   "cell_type": "code",
   "execution_count": 16,
   "id": "c6912700-7ad3-48f7-ac6a-b5753e50ea4a",
   "metadata": {},
   "outputs": [
    {
     "data": {
      "image/png": "[encoded data removed]",
      "text/plain": [
       "<Figure size 432x288 with 1 Axes>"
      ]
     },
     "metadata": {},
     "output_type": "display_data"
    }
   ],
   "source": [
    "nx_tree = nx.balanced_tree(2, 3)\n",
    "\n",
    "pos = graphviz_layout(nx_tree, prog='dot')\n",
    "nx.draw_networkx(nx_tree, pos)\n",
    "plt.show()\n"
   ]
  },
  {
   "cell_type": "code",
   "execution_count": 135,
   "id": "40d435c2-cfee-4da0-9272-40b8c57d21e6",
   "metadata": {},
   "outputs": [
    {
     "name": "stdout",
     "output_type": "stream",
     "text": [
      "{0: (0.0, 0.0, 0), 1: (-1.0847457627118644, -1.0847457627118644, 0), 2: (1.0847457627118644, -1.0847457627118644, 0), 3: (-2.711864406779661, -2.169491525423729, 0), 4: (-1.0847457627118644, -2.169491525423729, 0), 5: (1.0847457627118644, -2.169491525423729, 0), 6: (2.711864406779661, -2.169491525423729, 0), 7: (-3.7966101694915255, -3.2542372881355934, 0), 8: (-2.711864406779661, -3.2542372881355934, 0), 9: (-1.6271186440677967, -3.2542372881355934, 0), 10: (-0.5423728813559322, -3.2542372881355934, 0), 11: (0.5423728813559322, -3.2542372881355934, 0), 12: (1.6271186440677967, -3.2542372881355934, 0), 13: (2.711864406779661, -3.2542372881355934, 0), 14: (3.7966101694915255, -3.2542372881355934, 0)}\n"
     ]
    },
    {
     "data": {
      "text/html": [
       "<video src=\"media/jupyter/Tree@2022-05-25@15-40-37.mp4\" controls autoplay loop style=\"max-width: 60%;\"  >\n",
       "      Your browser does not support the <code>video</code> element.\n",
       "    </video>"
      ],
      "text/plain": [
       "<IPython.core.display.Video object>"
      ]
     },
     "metadata": {},
     "output_type": "display_data"
    }
   ],
   "source": [
    "%%manim -qm -v WARNING Tree\n",
    "\n",
    "class Tree(mn.Scene):\n",
    "    def construct_nx_tree(self, *args, **kwargs):\n",
    "        return nx.balanced_tree(*args, **kwargs)\n",
    "    \n",
    "    def construct(self, node_fade_run_time=1):\n",
    "        # nx_tree = self.construct_nx_tree(1, 0)\n",
    "        # # pos = graphviz_layout(nx_tree, prog='dot')\n",
    "        # G = mn.Graph.from_networkx(nx_tree, layout='tree', root_vertex=0)\n",
    "        # self.play(mn.Create(G), run_time=node_fade_run_time)\n",
    "        # self.wait()\n",
    "        \n",
    "        nx_tree = self.construct_nx_tree(2, 3)\n",
    "        pos = graphviz_layout(nx_tree, prog='dot', root=0)\n",
    "        max_val = 1\n",
    "        for val in pos.values():\n",
    "            x, y = val\n",
    "            max_val = max(max_val, abs(x), abs(y))\n",
    "        factor = 8\n",
    "        root_x_shift, root_y_shift = 0 - pos[0][0], 0 - pos[0][1]\n",
    "        for key, val in pos.items():\n",
    "            # add z dim to pos and re-scale to 0 -1 range\n",
    "            x, y = val\n",
    "            pos[key] = ((x+root_x_shift)*factor/(max_val), (y+root_y_shift)*factor/(max_val), 0)\n",
    "        print(pos)\n",
    "        # G = mn.Graph.from_networkx(nx_tree, layout='tree', root_vertex=0)\n",
    "        G = mn.Graph.from_networkx(nx_tree, layout=pos)\n",
    "        # G = mn.Graph(nx_tree.nodes, nx_tree.edges, layout=pos)\n",
    "        self.add(G)\n",
    "        # self.play(mn.Create(G), run_time=node_fade_run_time)\n",
    "        self.wait()\n",
    "        \n",
    "        # vertex_id = 1\n",
    "        # new_vertices = [3, 4]\n",
    "        # new_edges = [(vertex_id, child_id) for child_id in new_vertices]\n",
    "        # self.play(\n",
    "        #     G.animate.add_edges(*new_edges)\n",
    "        #     )\n",
    "        # self.wait()"
   ]
  },
  {
   "cell_type": "code",
   "execution_count": 51,
   "id": "62b0cf62-e701-4ccd-b9dc-dfa5982d050e",
   "metadata": {},
   "outputs": [
    {
     "name": "stderr",
     "output_type": "stream",
     "text": [
      "                                                                                                                   \r"
     ]
    },
    {
     "data": {
      "text/html": [
       "<video src=\"media/jupyter/LargeTreeGeneration@2022-05-25@14-51-56.mp4\" controls autoplay loop style=\"max-width: 60%;\"  >\n",
       "      Your browser does not support the <code>video</code> element.\n",
       "    </video>"
      ],
      "text/plain": [
       "<IPython.core.display.Video object>"
      ]
     },
     "metadata": {},
     "output_type": "display_data"
    }
   ],
   "source": [
    "%%manim -qm -v WARNING LargeTreeGeneration\n",
    "\n",
    "from manim import *\n",
    "\n",
    "class LargeTreeGeneration(MovingCameraScene):\n",
    "    DEPTH = 4\n",
    "    CHILDREN_PER_VERTEX = 3\n",
    "    LAYOUT_CONFIG = {\"vertex_spacing\": (0.5, 1)}\n",
    "    VERTEX_CONF = {\"radius\": 0.25, \"color\": BLUE_B, \"fill_opacity\": 1}\n",
    "\n",
    "    def expand_vertex(self, g, vertex_id: str, depth: int):\n",
    "        new_vertices = [f\"{vertex_id}/{i}\" for i in range(self.CHILDREN_PER_VERTEX)]\n",
    "        new_edges = [(vertex_id, child_id) for child_id in new_vertices]\n",
    "        g.add_edges(\n",
    "            *new_edges,\n",
    "            vertex_config=self.VERTEX_CONF,\n",
    "            positions={\n",
    "                k: g.vertices[vertex_id].get_center() + 0.1 * DOWN for k in new_vertices\n",
    "            },\n",
    "        )\n",
    "        if depth < self.DEPTH:\n",
    "            for child_id in new_vertices:\n",
    "                self.expand_vertex(g, child_id, depth + 1)\n",
    "\n",
    "        return g\n",
    "\n",
    "    def construct(self):\n",
    "        g = Graph([\"ROOT\"], [], vertex_config=self.VERTEX_CONF)\n",
    "        g = self.expand_vertex(g, \"ROOT\", 1)\n",
    "        self.add(g)\n",
    "\n",
    "        self.play(\n",
    "            g.animate.change_layout(\n",
    "                \"tree\",\n",
    "                root_vertex=\"ROOT\",\n",
    "                layout_config=self.LAYOUT_CONFIG,\n",
    "            )\n",
    "        )\n",
    "        self.play(self.camera.auto_zoom(g, margin=1), run_time=0.5)"
   ]
  },
  {
   "cell_type": "code",
   "execution_count": 196,
   "id": "a03b6fbb-c22d-4fe2-b0bc-9ad335ba457a",
   "metadata": {},
   "outputs": [
    {
     "data": {
      "image/png": "[encoded data removed]",
      "text/plain": [
       "<Figure size 432x288 with 1 Axes>"
      ]
     },
     "metadata": {},
     "output_type": "display_data"
    },
    {
     "name": "stdout",
     "output_type": "stream",
     "text": [
      "removing edges\n"
     ]
    },
    {
     "name": "stderr",
     "output_type": "stream",
     "text": [
      "                                                                                                   \r"
     ]
    },
    {
     "name": "stdout",
     "output_type": "stream",
     "text": [
      "removing edges\n",
      "removed\n"
     ]
    },
    {
     "name": "stderr",
     "output_type": "stream",
     "text": [
      "                                                                                                              \r"
     ]
    },
    {
     "name": "stdout",
     "output_type": "stream",
     "text": [
      "removing edges\n",
      "removed\n"
     ]
    },
    {
     "name": "stderr",
     "output_type": "stream",
     "text": [
      "                                                                                                              \r"
     ]
    },
    {
     "name": "stdout",
     "output_type": "stream",
     "text": [
      "removing edges\n",
      "removed\n"
     ]
    },
    {
     "name": "stderr",
     "output_type": "stream",
     "text": [
      "                                                                                                              \r"
     ]
    },
    {
     "name": "stdout",
     "output_type": "stream",
     "text": [
      "removing edges\n",
      "removed\n"
     ]
    },
    {
     "name": "stderr",
     "output_type": "stream",
     "text": [
      "                                                                                                                 \r"
     ]
    },
    {
     "name": "stdout",
     "output_type": "stream",
     "text": [
      "removing edges\n",
      "removed\n"
     ]
    },
    {
     "name": "stderr",
     "output_type": "stream",
     "text": [
      "                                                                                                                 \r"
     ]
    },
    {
     "name": "stdout",
     "output_type": "stream",
     "text": [
      "removing edges\n",
      "removed\n"
     ]
    },
    {
     "name": "stderr",
     "output_type": "stream",
     "text": [
      "                                                                                                                 \r"
     ]
    },
    {
     "name": "stdout",
     "output_type": "stream",
     "text": [
      "removing edges\n",
      "removed\n"
     ]
    },
    {
     "name": "stderr",
     "output_type": "stream",
     "text": [
      "                                                                                                                \r"
     ]
    },
    {
     "name": "stdout",
     "output_type": "stream",
     "text": [
      "removing edges\n",
      "removed\n"
     ]
    },
    {
     "name": "stderr",
     "output_type": "stream",
     "text": [
      "                                                                                                                 \r"
     ]
    },
    {
     "name": "stdout",
     "output_type": "stream",
     "text": [
      "removing edges\n",
      "removed\n"
     ]
    },
    {
     "name": "stderr",
     "output_type": "stream",
     "text": [
      "                                                                                                                 \r"
     ]
    },
    {
     "name": "stdout",
     "output_type": "stream",
     "text": [
      "removing edges\n",
      "removed\n"
     ]
    },
    {
     "name": "stderr",
     "output_type": "stream",
     "text": [
      "                                                                                                                \r"
     ]
    },
    {
     "name": "stdout",
     "output_type": "stream",
     "text": [
      "removing edges\n",
      "removed\n"
     ]
    },
    {
     "name": "stderr",
     "output_type": "stream",
     "text": [
      "                                                                                                                \r"
     ]
    },
    {
     "name": "stdout",
     "output_type": "stream",
     "text": [
      "removing edges\n",
      "removed\n"
     ]
    },
    {
     "name": "stderr",
     "output_type": "stream",
     "text": [
      "                                                                                                                \r"
     ]
    },
    {
     "name": "stdout",
     "output_type": "stream",
     "text": [
      "removing edges\n",
      "removed\n"
     ]
    },
    {
     "name": "stderr",
     "output_type": "stream",
     "text": [
      "                                                                                                                \r"
     ]
    },
    {
     "name": "stdout",
     "output_type": "stream",
     "text": [
      "removing edges\n",
      "removed\n"
     ]
    },
    {
     "name": "stderr",
     "output_type": "stream",
     "text": [
      "                                                                                                                \r"
     ]
    },
    {
     "name": "stdout",
     "output_type": "stream",
     "text": [
      "removing edges\n",
      "removed\n"
     ]
    },
    {
     "name": "stderr",
     "output_type": "stream",
     "text": [
      "                                                                                   \r"
     ]
    },
    {
     "data": {
      "text/html": [
       "<video src=\"media/jupyter/Tree@2022-05-25@17-41-22.mp4\" controls autoplay loop style=\"max-width: 60%;\"  >\n",
       "      Your browser does not support the <code>video</code> element.\n",
       "    </video>"
      ],
      "text/plain": [
       "<IPython.core.display.Video object>"
      ]
     },
     "metadata": {},
     "output_type": "display_data"
    }
   ],
   "source": [
    "%%manim -qm -v WARNING Tree\n",
    "\n",
    "class Tree(mn.Scene):\n",
    "    def construct_nx_tree(self, *args, **kwargs):\n",
    "        return nx.balanced_tree(*args, **kwargs)\n",
    "    \n",
    "    def conv_nx_pos_to_mn_pos(self, nx_pos, scale_factor=1):\n",
    "        mn_pos = {}\n",
    "        \n",
    "        # find max val so can normalise\n",
    "        max_val = 1\n",
    "        for val in nx_pos.values():\n",
    "            x, y = val\n",
    "            max_val = max(max_val, abs(x), abs(y))\n",
    "            \n",
    "        # find how much to shift axes\n",
    "        root_x_shift, root_y_shift = 0 - pos[0][0], 0 - pos[0][1]\n",
    "        \n",
    "        # add z dim to pos, shift coords to centre, and re-scale to 0-1 range\n",
    "        for key, val in nx_pos.items():\n",
    "            x, y = val\n",
    "            mn_pos[key] = ((x+root_x_shift)*scale_factor/(max_val), (y+root_y_shift)*scale_factor/(max_val), 0)\n",
    "            \n",
    "        return mn_pos\n",
    "    \n",
    "    def get_animated_tree_pos(self, nx_tree, final_tree_pos):\n",
    "        animated_tree_pos = {}\n",
    "        for node in nx_tree.nodes():\n",
    "            animated_tree_pos[node] = final_tree_pos[node]\n",
    "        return animated_tree_pos\n",
    "    \n",
    "    def add_nodes(self, nodes, run_time=None, animate=True, node_config=None):\n",
    "        if not isinstance(nodes, list):\n",
    "            nodes = [nodes]\n",
    "        removed_edges = []\n",
    "        for node in nodes:\n",
    "            print('removing edges')\n",
    "            if node in self.nx_animated_graph.nodes:\n",
    "                # record which edges have been removed\n",
    "                for edge in self.nx_animated_graph.in_edges(node):\n",
    "                    removed_edges.append(edge)\n",
    "                for edge in self.nx_animated_graph.out_edges(node):\n",
    "                    removed_edges.append(edge)\n",
    "                \n",
    "                # remove node from nx graph\n",
    "                self.nx_animated_graph.remove_node(node)\n",
    "                \n",
    "                # remove node from mn graph\n",
    "                self.mn_animated_graph.remove_vertices(*[node])\n",
    "                print('removed')\n",
    "        \n",
    "        # add node to nx graph\n",
    "        self.nx_animated_graph.add_nodes_from(nodes)\n",
    "        \n",
    "        # add node to mn graph\n",
    "        nodes_pos = self.get_animated_tree_pos(self.nx_animated_graph, self.mn_final_tree_pos)\n",
    "        self.play(\n",
    "            self.mn_animated_graph.animate.add_vertices(*nodes, positions=nodes_pos, vertex_config=node_config),\n",
    "            run_time=run_time\n",
    "            )\n",
    "        self.wait()\n",
    "        \n",
    "        # add any removed edges back\n",
    "        if len(removed_edges) > 0:\n",
    "            self.add_edges(removed_edges, animate=False)\n",
    "        \n",
    "    def add_edges(self, edges, run_time=None, animate=True):\n",
    "        # update nx graph\n",
    "        if not isinstance(edges, list):\n",
    "            edges = [edges]\n",
    "        self.nx_animated_graph.add_edges_from(edges)\n",
    "        \n",
    "        # update mn graph\n",
    "        nodes = [edge[-1] for edge in edges]\n",
    "        nodes_pos = self.get_animated_tree_pos(self.nx_animated_graph, self.mn_final_tree_pos)\n",
    "        if animate:\n",
    "            self.play(\n",
    "                self.mn_animated_graph.animate.add_edges(*edges, positions=nodes_pos),\n",
    "                run_time=run_time\n",
    "                )\n",
    "            self.wait()\n",
    "        else:\n",
    "            self.mn_animated_graph.add_edges(*edges, positions=nodes_pos),\n",
    "    \n",
    "    def construct(self, \n",
    "                  node_fade_run_time=0.75, \n",
    "                  edge_fade_run_time=0.75, \n",
    "                  scale_factor=8):\n",
    "        # construct final version of tree to get node positions\n",
    "        nx_final_tree = self.construct_nx_tree(2, 3, create_using=nx.DiGraph())\n",
    "        nx_final_tree_pos = graphviz_layout(nx_final_tree, prog='dot')\n",
    "        nx.draw_networkx(nx_final_tree, nx_final_tree_pos)\n",
    "        plt.show()\n",
    "        self.mn_final_tree_pos = self.conv_nx_pos_to_mn_pos(nx_final_tree_pos, scale_factor=scale_factor)\n",
    "        \n",
    "        # initialise animation graph\n",
    "        self.nx_animated_graph = nx.DiGraph()\n",
    "        self.mn_animated_graph = mn.Graph.from_networkx(self.nx_animated_graph)\n",
    "        \n",
    "        # populate animation graph until tree fully built\n",
    "        visited_node_ids = list(nx_final_tree.nodes())\n",
    "        for step_idx, node in enumerate(visited_node_ids):\n",
    "            # add node\n",
    "            if node not in self.nx_animated_graph.nodes:\n",
    "                self.add_nodes(node, run_time=node_fade_run_time, animate=True)\n",
    "            \n",
    "            # add edges\n",
    "            branches = list(nx_final_tree.out_edges(node))\n",
    "            self.add_edges(branches, run_time=edge_fade_run_time, animate=True)\n",
    "            \n",
    "            # change colour of node\n",
    "            self.add_nodes(node, node_config={'color': mn.BLUE})\n",
    "            \n",
    "        "
   ]
  },
  {
   "cell_type": "code",
   "execution_count": null,
   "id": "35fc94a0-427e-4157-83ed-b29958cbaa1a",
   "metadata": {},
   "outputs": [],
   "source": []
  }
 ],
 "metadata": {
  "kernelspec": {
   "display_name": "rlgnn",
   "language": "python",
   "name": "rlgnn"
  },
  "language_info": {
   "codemirror_mode": {
    "name": "ipython",
    "version": 3
   },
   "file_extension": ".py",
   "mimetype": "text/x-python",
   "name": "python",
   "nbconvert_exporter": "python",
   "pygments_lexer": "ipython3",
   "version": "3.7.1"
  }
 },
 "nbformat": 4,
 "nbformat_minor": 5
}
