{
 "cells": [
  {
   "cell_type": "code",
   "execution_count": null,
   "metadata": {},
   "outputs": [],
   "source": [
    "%load_ext autoreload\n",
    "%autoreload\n",
    "from retro_branching.environments import EcoleBranching\n",
    "from retro_branching.agents import StrongBranchingAgent, PseudocostBranchingAgent, RandomAgent\n",
    "from retro_branching.utils import seed_stochastic_modules_globally, PlotAesthetics\n",
    "\n",
    "import ecole\n",
    "\n",
    "import numpy as np\n",
    "import matplotlib.pyplot as plt\n",
    "import seaborn as sns\n",
    "import pandas as pd\n",
    "from tabulate import tabulate\n",
    "\n",
    "import glob\n",
    "from collections import defaultdict\n",
    "import time\n",
    "import pickle"
   ]
  },
  {
   "cell_type": "code",
   "execution_count": null,
   "metadata": {},
   "outputs": [],
   "source": [
    "# set params\n",
    "\n",
    "agent = RandomAgent()\n",
    "# agent = PseudocostBranchingAgent()\n",
    "\n",
    "co_class = 'set_covering'\n",
    "co_class_kwargs = {'n_rows': 500, 'n_cols': 1000}\n",
    "\n",
    "verbose = True"
   ]
  },
  {
   "cell_type": "code",
   "execution_count": null,
   "metadata": {
    "scrolled": true
   },
   "outputs": [],
   "source": [
    "# load instances\n",
    "\n",
    "instances_path = f'/scratch/datasets/retro_branching/instances/{co_class}'\n",
    "for key,val in co_class_kwargs.items():\n",
    "    instances_path += f'_{key}_{val}'\n",
    "files = glob.glob(instances_path + '/*.mps')\n",
    "print(f'Loaded {len(files)} instance files from {instances_path}\\nFiles loaded:')\n",
    "for file in files:\n",
    "    print(file)"
   ]
  },
  {
   "cell_type": "code",
   "execution_count": null,
   "metadata": {},
   "outputs": [],
   "source": [
    "%autoreload\n",
    "\n",
    "seed = 0 # 1\n",
    "seed_stochastic_modules_globally(default_seed=seed)\n",
    "\n",
    "env = EcoleBranching(observation_function='default',\n",
    "                      information_function='default',\n",
    "                      reward_function='default',\n",
    "                      scip_params='default')\n",
    "env.seed(seed)\n",
    "\n",
    "ecole.seed(seed)\n",
    "\n",
    "stats_to_record = ['Episode Length', 'Episode Return']\n",
    "plot_dict = {\n",
    "             'Original': {stat: []  for stat in stats_to_record},\n",
    "             'Retrospective': {stat: []  for stat in stats_to_record},\n",
    "            }"
   ]
  },
  {
   "cell_type": "code",
   "execution_count": null,
   "metadata": {
    "scrolled": true
   },
   "outputs": [],
   "source": [
    "%autoreload\n",
    "\n",
    "subtree_reward_key = 'retro_binary_fathomed'\n",
    "for i, file in enumerate(files):\n",
    "    start = time.time()\n",
    "    \n",
    "    env.seed(seed)\n",
    "    instance = ecole.scip.Model.from_file(file)\n",
    "    agent.before_reset(instance)\n",
    "    obs, action_set, reward, done, info = env.reset(instance)\n",
    "    print(f'\\nStarting episode {i+1} of {len(files)}...')\n",
    "    \n",
    "    step_counter = 0\n",
    "    while not done:\n",
    "        action, action_idx = agent.action_select(action_set, model=env.model, done=done)\n",
    "        obs, action_set, reward, done, info = env.step(action)\n",
    "        step_counter += 1\n",
    "        \n",
    "    print(f'Completed episode {i+1} in {time.time() - start:.3f} s.')\n",
    "        \n",
    "    # update whole tree stats\n",
    "    plot_dict['Whole tree']['Episode Length'].append(step_counter)\n",
    "    whole_tree_return = 0\n",
    "    for sub_ep in reward[subtree_reward_key]:\n",
    "        for r in sub_ep.values():\n",
    "            whole_tree_return += r\n",
    "    plot_dict['Whole tree']['Episode Return'].append(whole_tree_return)\n",
    "    \n",
    "    # update sub-tree stats\n",
    "    for sub_ep in reward[subtree_reward_key]:\n",
    "        plot_dict['Sub-trees']['Episode Length'].append(len(list(sub_ep.keys())))\n",
    "        plot_dict['Sub-trees']['Episode Return'].append(sum(list(sub_ep.values())))\n",
    "        \n",
    "print(f'\\nFinal plot_dict:\\n{plot_dict}')"
   ]
  },
  {
   "cell_type": "code",
   "execution_count": null,
   "metadata": {},
   "outputs": [],
   "source": [
    "# save plot dict\n",
    "with open('subtree_vs_whole_tree_episode_length_plot_dict.pkl', 'wb') as f:\n",
    "    pickle.dump(plot_dict, f)"
   ]
  },
  {
   "cell_type": "code",
   "execution_count": null,
   "metadata": {},
   "outputs": [],
   "source": [
    "# load plot dict\n",
    "with open('subtree_vs_whole_tree_episode_length_plot_dict.pkl', 'rb') as f:\n",
    "    plot_dict = pickle.load(f)"
   ]
  },
  {
   "cell_type": "code",
   "execution_count": null,
   "metadata": {},
   "outputs": [],
   "source": [
    "# rename keys if needed\n",
    "if 'Whole tree' in plot_dict.keys():\n",
    "    plot_dict['Retrospective'] = plot_dict.pop('Whole tree')\n",
    "if 'Sub-trees' in plot_dict.keys():\n",
    "    plot_dict['Original'] = plot_dict.pop('Sub-trees')"
   ]
  },
  {
   "cell_type": "code",
   "execution_count": null,
   "metadata": {},
   "outputs": [],
   "source": [
    "# Create dataframes (from above dict) for data manipulation and seaborn plotting (use display_name for legends)\n",
    "_df = defaultdict(list)\n",
    "for _agent in plot_dict.keys():\n",
    "    for stat in plot_dict[_agent].keys():\n",
    "        try:\n",
    "            for el in plot_dict[_agent][stat]:\n",
    "                _df[stat].append(el)\n",
    "        except TypeError:\n",
    "            # non-iterable, is already an element\n",
    "            _df[stat].append(plot_dict[_agent][stat])\n",
    "            \n",
    "    for _ in range(len(plot_dict[_agent][stat])):\n",
    "        _df['Agent'].append(_agent)\n",
    "                        \n",
    "for key, val in _df.items():\n",
    "    print(key, len(val))\n",
    "df = pd.DataFrame(_df)\n",
    "if verbose:\n",
    "    print(tabulate(df, headers='keys', tablefmt='psql', showindex=False))"
   ]
  },
  {
   "cell_type": "code",
   "execution_count": null,
   "metadata": {},
   "outputs": [],
   "source": [
    "# # config\n",
    "# context = 'paper'\n",
    "# style = 'whitegrid'\n",
    "# font_scale = 2\n",
    "# palette = 'hls'\n",
    "# fig_size = (4, 2)\n",
    "# linewidth = 2.5\n",
    "\n",
    "# sns.set_theme(font_scale=font_scale,\n",
    "#               context=context,\n",
    "#               style=style,\n",
    "#               palette=palette)\n",
    "\n",
    "\n",
    "# plot_legend = False\n",
    "\n",
    "# ylog = True\n",
    "# xlog = True"
   ]
  },
  {
   "cell_type": "code",
   "execution_count": null,
   "metadata": {},
   "outputs": [],
   "source": [
    "# config\n",
    "ylabel = 'Proportion'\n",
    "\n",
    "plot_legend = True\n",
    "\n",
    "ylog = True\n",
    "xlog = True\n",
    "\n",
    "scaling_factor = 0.6\n",
    "width_scaling_factor = 1.5\n",
    "height_scaling_factor = 1\n",
    "\n",
    "aesthetics = PlotAesthetics()\n",
    "aesthetics.set_icml_paper_plot_aesthetics()"
   ]
  },
  {
   "cell_type": "code",
   "execution_count": null,
   "metadata": {},
   "outputs": [],
   "source": [
    "# sns.set_theme(font_scale=font_scale,\n",
    "#               context=context,\n",
    "#               style=style,\n",
    "#               palette=palette)\n",
    "\n",
    "\n",
    "# EPISODE LENGTH\n",
    "f, ax = plt.subplots(figsize=aesthetics.get_standard_fig_size(scaling_factor=scaling_factor, width_scaling_factor=width_scaling_factor, height_scaling_factor=height_scaling_factor))\n",
    "g = sns.histplot(data=df, x='Episode Length', hue='Agent', log_scale=xlog, legend=plot_legend)\n",
    "plt.xlabel('MDP Length')\n",
    "plt.ylabel(ylabel)\n",
    "ax.tick_params(axis='both', which='major', pad=2)\n",
    "ax.xaxis.labelpad = 2\n",
    "ax.yaxis.labelpad = 2\n",
    "sns.despine(ax=ax) # remove top and right spines\n",
    "if ylog:\n",
    "    g.set(yscale='log')\n",
    "if plot_legend:\n",
    "    plt.legend(title=None, labels=list(plot_dict.keys()), loc='lower right')\n",
    "plt.gcf().patch.set_alpha(0.0)\n",
    "plt.show()\n",
    "\n",
    "f, ax = plt.subplots(figsize=aesthetics.get_standard_fig_size(scaling_factor=scaling_factor, width_scaling_factor=width_scaling_factor, height_scaling_factor=height_scaling_factor))\n",
    "g = sns.histplot(data=df, x='Episode Length', hue='Agent', log_scale=xlog, cumulative=True, stat='density', fill=False, common_norm=False, element='step', legend=plot_legend, linewidth=aesthetics.linewidth)\n",
    "plt.xlabel('MDP Length')\n",
    "plt.ylabel(ylabel)\n",
    "ax.tick_params(axis='both', which='major', pad=2)\n",
    "ax.xaxis.labelpad = 2\n",
    "ax.yaxis.labelpad = 2\n",
    "sns.despine(ax=ax) # remove top and right spines\n",
    "if plot_legend:\n",
    "    plt.legend(title=None, labels=list(plot_dict.keys()))\n",
    "plt.gcf().patch.set_alpha(0.0)\n",
    "plt.show()\n",
    "\n",
    "\n",
    "# EPISODE RETURN\n",
    "f, ax = plt.subplots(figsize=aesthetics.get_standard_fig_size(scaling_factor=scaling_factor, width_scaling_factor=width_scaling_factor, height_scaling_factor=height_scaling_factor))\n",
    "g = sns.histplot(data=df, x='Episode Return', hue='Agent', legend=plot_legend)\n",
    "plt.xlabel('MDP Return')\n",
    "plt.ylabel(ylabel)\n",
    "if ylog:\n",
    "    g.set(yscale='log')\n",
    "plt.xscale('symlog')\n",
    "plt.xlim(right=0)\n",
    "ax.tick_params(axis='both', which='major', pad=2)\n",
    "ax.xaxis.labelpad = 2\n",
    "ax.yaxis.labelpad = 2\n",
    "sns.despine(ax=ax) # remove top and right spines\n",
    "if plot_legend:\n",
    "    plt.legend(title=None, labels=list(plot_dict.keys()))\n",
    "plt.gcf().patch.set_alpha(0.0)\n",
    "plt.show()\n",
    "\n",
    "f, ax = plt.subplots(figsize=aesthetics.get_standard_fig_size(scaling_factor=scaling_factor, width_scaling_factor=width_scaling_factor, height_scaling_factor=height_scaling_factor))\n",
    "g = sns.histplot(data=df, x='Episode Return', hue='Agent', cumulative=True, stat='density', fill=False, common_norm=False, element='step', legend=plot_legend, linewidth=aesthetics.linewidth)\n",
    "plt.xlabel('MDP Return')\n",
    "plt.ylabel(ylabel)\n",
    "plt.xscale('symlog')\n",
    "plt.xlim(right=0)\n",
    "ax.tick_params(axis='both', which='major', pad=2)\n",
    "ax.xaxis.labelpad = 2\n",
    "ax.yaxis.labelpad = 2\n",
    "sns.despine(ax=ax) # remove top and right spines\n",
    "if plot_legend:\n",
    "    plt.legend(title=None, labels=list(plot_dict.keys()), loc='upper left')\n",
    "plt.gcf().patch.set_alpha(0.0)\n",
    "plt.show()"
   ]
  },
  {
   "cell_type": "code",
   "execution_count": null,
   "metadata": {},
   "outputs": [],
   "source": [
    "for agent in plot_dict.keys():\n",
    "    for stat in plot_dict[agent].keys():\n",
    "        print(f'{agent} -> mean {stat}: {np.mean(plot_dict[agent][stat])} | std {stat}: {np.std(plot_dict[agent][stat])}')"
   ]
  },
  {
   "cell_type": "code",
   "execution_count": null,
   "metadata": {},
   "outputs": [],
   "source": []
  },
  {
   "cell_type": "code",
   "execution_count": null,
   "metadata": {},
   "outputs": [],
   "source": []
  },
  {
   "cell_type": "code",
   "execution_count": null,
   "metadata": {},
   "outputs": [],
   "source": []
  }
 ],
 "metadata": {
  "kernelspec": {
   "display_name": "rlgnn",
   "language": "python",
   "name": "rlgnn"
  },
  "language_info": {
   "codemirror_mode": {
    "name": "ipython",
    "version": 3
   },
   "file_extension": ".py",
   "mimetype": "text/x-python",
   "name": "python",
   "nbconvert_exporter": "python",
   "pygments_lexer": "ipython3",
   "version": "3.7.1"
  }
 },
 "nbformat": 4,
 "nbformat_minor": 4
}
