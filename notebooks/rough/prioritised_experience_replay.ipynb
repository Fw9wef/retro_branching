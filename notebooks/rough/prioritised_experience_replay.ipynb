{
 "cells": [
  {
   "cell_type": "markdown",
   "metadata": {},
   "source": [
    "Prioritised experience replay (PER) implementation from paper: https://arxiv.org/pdf/1511.05952.pdf\n",
    "\n",
    "Nice PER blog post: https://adventuresinmachinelearning.com/prioritised-experience-replay/\n",
    "SumTree blog post: https://adventuresinmachinelearning.com/sumtree-introduction-python/"
   ]
  },
  {
   "cell_type": "code",
   "execution_count": null,
   "metadata": {},
   "outputs": [],
   "source": [
    "import networkx as nx\n",
    "import matplotlib.pyplot as plt\n",
    "from networkx.drawing.nx_pydot import graphviz_layout\n",
    "import seaborn as sns\n",
    "import copy\n",
    "import numpy as np"
   ]
  },
  {
   "cell_type": "markdown",
   "metadata": {},
   "source": [
    "First lets try to implement a SumTree data structure for weighted sampling and sorting.\n",
    "\n",
    "Leaf nodes -> cumulative weight of each possible sample which can be sampled. I.e. if we have 10 possible samples, then will have 10 leaf nodes.\n",
    "\n",
    "Each leaf node has a represents a unique sample, and its value is the sample's weight. Each parent node value is the cumulative sum of its child leaf nods. Therefore, the value of the root node will be the cumulative sum of all sample (leaf node) weights."
   ]
  },
  {
   "cell_type": "code",
   "execution_count": null,
   "metadata": {},
   "outputs": [],
   "source": [
    "class SumTree:\n",
    "    def __init__(self, leaf_values, leaf_weights, debug_mode=False):\n",
    "        self.debug_mode = debug_mode\n",
    "        self.init_sum_tree(leaf_values, leaf_weights)\n",
    "                \n",
    "    def init_sum_tree(self, leaf_values, leaf_weights):\n",
    "        self.tree = nx.DiGraph()\n",
    "        \n",
    "        # add leaf nodes\n",
    "        leaf_ids = range(len(leaf_values))\n",
    "        for _id, v, w in zip(leaf_ids, leaf_values, leaf_weights):\n",
    "            self.tree.add_node(_id, value=v, weight=w, is_leaf=True)\n",
    "            \n",
    "        child_ids = copy.deepcopy(leaf_ids)\n",
    "        \n",
    "        last_idx = child_ids[-1]\n",
    "        while len(child_ids) > 1:\n",
    "            inodes = iter(child_ids)\n",
    "            if len(child_ids) % 2 != 0:\n",
    "                # last node will be left over\n",
    "                left_over_node = child_ids[-1]\n",
    "            else:\n",
    "                left_over_node = None\n",
    "            child_ids = [] # track child ids to add parents for in next level of tree\n",
    "            for pair in zip(inodes, inodes):\n",
    "                parent_id = last_idx + 1\n",
    "                child_ids.append(parent_id)\n",
    "                self.tree.add_node(parent_id,\n",
    "                                   value=None,\n",
    "                                   weight=self.tree.nodes[pair[0]]['weight']+self.tree.nodes[pair[1]]['weight'],\n",
    "                                   is_leaf=False)\n",
    "                self.tree.add_edge(parent_id, pair[0])\n",
    "                self.tree.add_edge(parent_id, pair[1])\n",
    "                last_idx += 1\n",
    "            if left_over_node is not None:\n",
    "                child_ids.append(left_over_node)\n",
    "            \n",
    "        self.tree.graph['root_id'] = child_ids[-1]\n",
    "        self.tree.graph['leaf_ids'] = list(leaf_ids)\n",
    "            \n",
    "    def retrieve(self, weight, node_id):\n",
    "        '''Recursive traversal from node_id to a leaf node.'''\n",
    "        if self.tree.nodes[node_id]['is_leaf']:\n",
    "            # reached leaf node\n",
    "            if self.debug_mode:\n",
    "                print(f'reached leaf node {node_id}')\n",
    "            return node_id\n",
    "        else:\n",
    "            # not yet reached leaf node, keep traversing\n",
    "            if self.debug_mode:\n",
    "                print(f'curr node: {node_id} | weight to consider: {weight}')\n",
    "        \n",
    "            # get children of current node\n",
    "            children = list(self.tree.successors(node_id))\n",
    "            if self.debug_mode:\n",
    "                print(f'children: {children}')\n",
    "\n",
    "            # choose if traverse to left or right child\n",
    "            if self.tree.nodes[children[0]]['weight'] >= weight:\n",
    "                # keep weight same, traverse to left-hand child\n",
    "                if self.debug_mode:\n",
    "                    print(f'traverse to LHS child w/ weight to consider: {weight}')\n",
    "                return self.retrieve(weight, children[0])\n",
    "            else:\n",
    "                # subtract left-hand child's weight from weight, traverse to right-hand child\n",
    "                if self.debug_mode:\n",
    "                    print(f'traverse to RHS child w/ updated weight to consider: {weight - self.tree.nodes[children[0]][\"weight\"]}')\n",
    "                return self.retrieve(weight - self.tree.nodes[children[0]]['weight'], children[1])\n",
    "            \n",
    "    def update(self, node_id, new_weight):\n",
    "        change = new_weight - self.tree.nodes[node_id]['weight']\n",
    "        self.tree.nodes[node_id]['weight'] = new_weight\n",
    "        self.propagate_changes(change, list(self.tree.predecessors(node_id))[0])\n",
    "        \n",
    "    def propagate_changes(self, change, node_id):\n",
    "        self.tree.nodes[node_id]['weight'] += change\n",
    "        if list(self.tree.predecessors(node_id))[0] is not None:\n",
    "            self.propagate_changes(change, list(self.tree.predecessors(node_id))[0])\n",
    "            \n",
    "        predecessor = list(self.tree.predecessors(node_id))\n",
    "        if len(predecessor) > 0:\n",
    "            self.propagate_changes(change, predecessor)\n",
    "        else:\n",
    "            # node_id is root node, no further change to propagate\n",
    "            pass\n",
    "            \n",
    "    def sample(self):\n",
    "        # get total tree weight\n",
    "        total_tree_sum = self.tree.nodes[self.tree.graph['root_id']]['weight']\n",
    "        if self.debug_mode:\n",
    "            print(f'tree sum: {total_tree_sum}')\n",
    "        \n",
    "        # choose random weight to sample\n",
    "        random_weight = np.random.uniform(0, total_tree_sum)\n",
    "#         random_weight = 4.5\n",
    "        if self.debug_mode:\n",
    "            print(f'randomly sampled weight: {random_weight}')\n",
    "        \n",
    "        # traverse tree from root node to retrieve node id of this randomly sampled weight in O(log(n))\n",
    "        return self.retrieve(random_weight, self.tree.graph['root_id'])\n",
    "        \n",
    "    def render(self):\n",
    "        fig = plt.figure()\n",
    "        \n",
    "        pos = graphviz_layout(self.tree, prog='dot')\n",
    "        node_labels = {node: node for node in self.tree.nodes}\n",
    "        nx.draw_networkx_nodes(self.tree,\n",
    "                               pos,\n",
    "                               label=node_labels)\n",
    "        nx.draw_networkx_edges(self.tree,\n",
    "                               pos)\n",
    "        \n",
    "        nx.draw_networkx_labels(self.tree, pos, labels=node_labels)\n",
    "        \n",
    "        plt.show()"
   ]
  },
  {
   "cell_type": "markdown",
   "metadata": {},
   "source": [
    "Consider we have 4 possible samples with weights 1, 2, 3, and 4:"
   ]
  },
  {
   "cell_type": "code",
   "execution_count": null,
   "metadata": {},
   "outputs": [],
   "source": [
    "samples = [214, 342, 42, 123]\n",
    "weights = [1, 4, 2, 3]\n",
    "sample_to_weight = {sample: weight for sample, weight in zip(samples, weights)}\n",
    "print(f'Possible samples and their corresponding sampling weight: {sample_to_weight}')"
   ]
  },
  {
   "cell_type": "code",
   "execution_count": null,
   "metadata": {},
   "outputs": [],
   "source": [
    "sum_tree = SumTree(samples, weights)\n",
    "sum_tree.render()\n",
    "for node in sum_tree.tree.nodes:\n",
    "    print(f'Node {node} value: {sum_tree.tree.nodes[node][\"value\"]} | weight: {sum_tree.tree.nodes[node][\"weight\"]}')\n",
    "print(f'Root node id: {sum_tree.tree.graph[\"root_id\"]}')\n",
    "print(f'Leaf node ids: {sum_tree.tree.graph[\"leaf_ids\"]}')"
   ]
  },
  {
   "cell_type": "code",
   "execution_count": null,
   "metadata": {},
   "outputs": [],
   "source": [
    "# sample tree\n",
    "selected_nodes = [sum_tree.sample() for _ in range(10000)]\n",
    "# print(selected_nodes)\n",
    "\n",
    "fig = sns.histplot(selected_nodes, stat='probability')\n",
    "plt.xlabel('Leaf node id')\n",
    "plt.ylabel('Probability')\n",
    "plt.show()"
   ]
  },
  {
   "cell_type": "code",
   "execution_count": null,
   "metadata": {},
   "outputs": [],
   "source": []
  },
  {
   "cell_type": "code",
   "execution_count": null,
   "metadata": {
    "scrolled": false
   },
   "outputs": [],
   "source": [
    "samples = range(3)\n",
    "weights = [np.random.uniform() for _ in range(len(samples))]\n",
    "sample_to_weight = {sample: weight for sample, weight in zip(samples, weights)}\n",
    "print(f'Possible samples and their corresponding sampling weight: {sample_to_weight}')\n",
    "\n",
    "sum_tree = SumTree(samples, weights, debug_mode=False)\n",
    "sum_tree.render()\n",
    "for node in sum_tree.tree.nodes:\n",
    "    print(f'Node {node} value: {sum_tree.tree.nodes[node][\"value\"]} | weight: {sum_tree.tree.nodes[node][\"weight\"]}')\n",
    "print(f'Root node id: {sum_tree.tree.graph[\"root_id\"]}')\n",
    "print(f'Leaf node ids: {sum_tree.tree.graph[\"leaf_ids\"]}')\n",
    "\n",
    "# sample tree\n",
    "selected_nodes = [sum_tree.sample() for _ in range(10000)]\n",
    "# print(selected_nodes)\n",
    "\n",
    "fig = sns.histplot(selected_nodes, stat='probability')\n",
    "plt.xlabel('Leaf node id')\n",
    "plt.ylabel('Probability')\n",
    "plt.show()"
   ]
  },
  {
   "cell_type": "code",
   "execution_count": null,
   "metadata": {},
   "outputs": [],
   "source": []
  }
 ],
 "metadata": {
  "kernelspec": {
   "display_name": "rlgnn",
   "language": "python",
   "name": "rlgnn"
  },
  "language_info": {
   "codemirror_mode": {
    "name": "ipython",
    "version": 3
   },
   "file_extension": ".py",
   "mimetype": "text/x-python",
   "name": "python",
   "nbconvert_exporter": "python",
   "pygments_lexer": "ipython3",
   "version": "3.7.10"
  }
 },
 "nbformat": 4,
 "nbformat_minor": 4
}
