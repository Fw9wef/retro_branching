{
 "cells": [
  {
   "cell_type": "markdown",
   "metadata": {},
   "source": [
    "# Use this script for deleting old scratch data"
   ]
  },
  {
   "cell_type": "markdown",
   "metadata": {},
   "source": [
    "E.g. In `/scratch/datasets/retro_branching/reinforce_learner/rl_gnn/` might have e.g. `rl_gnn_10` and `rl_gnn_11` folders which want to permanently delete."
   ]
  },
  {
   "cell_type": "code",
   "execution_count": null,
   "metadata": {},
   "outputs": [],
   "source": [
    "import shutil\n",
    "import glob\n",
    "import time"
   ]
  },
  {
   "cell_type": "code",
   "execution_count": null,
   "metadata": {},
   "outputs": [],
   "source": [
    "path = '/scratch/datasets/retro_branching/reinforce_learner/rl_gnn/'\n",
    "# path = '/scratch/datasets/retro_branching/dqn_learner/dqn_gnn/'"
   ]
  },
  {
   "cell_type": "code",
   "execution_count": null,
   "metadata": {},
   "outputs": [],
   "source": [
    "path_items = sorted(glob.glob(path+'/*'))\n",
    "path_items = {el for el in path_items} # conv to set for hasing\n",
    "print(path_items)"
   ]
  },
  {
   "cell_type": "code",
   "execution_count": null,
   "metadata": {},
   "outputs": [],
   "source": [
    "ids = {int(el.split('_')[-1]) for el in path_items}\n",
    "print(ids)\n",
    "print(type(ids))"
   ]
  },
  {
   "cell_type": "code",
   "execution_count": null,
   "metadata": {},
   "outputs": [],
   "source": [
    "ids_to_delete = {i for i in range(1, 1000) if i in ids}\n",
    "print(f'Will delete following {len(ids_to_delete)} ids:\\n{ids_to_delete}')\n",
    "\n",
    "print('\\nCorresponding folders which will be deleted:')\n",
    "for item in path_items:\n",
    "    if int(item.split('_')[-1]) in ids_to_delete:\n",
    "        print(f'Will delete {item}')"
   ]
  },
  {
   "cell_type": "markdown",
   "metadata": {},
   "source": [
    "# WARNING: No going back! Make sure you want to delete the folders before proceeding..."
   ]
  },
  {
   "cell_type": "code",
   "execution_count": null,
   "metadata": {
    "scrolled": true
   },
   "outputs": [],
   "source": [
    "for counter, item in enumerate(path_items):\n",
    "    if int(item.split('_')[-1]) in ids_to_delete:\n",
    "        print(f'{counter+1}/{len(ids_to_delete)} Deleting {item} ...')\n",
    "        start = time.time()\n",
    "        shutil.rmtree(item)\n",
    "        end = time.time()\n",
    "        print(f'{counter+1}/{len(ids_to_delete)} Deleted {item} in {round(end-start, 3)} s')"
   ]
  },
  {
   "cell_type": "code",
   "execution_count": null,
   "metadata": {},
   "outputs": [],
   "source": []
  }
 ],
 "metadata": {
  "kernelspec": {
   "display_name": "rlgnn",
   "language": "python",
   "name": "rlgnn"
  },
  "language_info": {
   "codemirror_mode": {
    "name": "ipython",
    "version": 3
   },
   "file_extension": ".py",
   "mimetype": "text/x-python",
   "name": "python",
   "nbconvert_exporter": "python",
   "pygments_lexer": "ipython3",
   "version": "3.7.10"
  }
 },
 "nbformat": 4,
 "nbformat_minor": 4
}
