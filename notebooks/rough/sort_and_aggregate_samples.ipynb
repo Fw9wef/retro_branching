{
 "cells": [
  {
   "cell_type": "markdown",
   "metadata": {},
   "source": [
    "# Sort Samples\n",
    "\n",
    "This notebook is for sorting samples saved in separate folders into a single folder."
   ]
  },
  {
   "cell_type": "code",
   "execution_count": null,
   "metadata": {},
   "outputs": [],
   "source": [
    "import glob\n",
    "import shutil\n",
    "import pathlib\n",
    "from tqdm import tqdm\n",
    "\n",
    "\n",
    "# SUPERVISED LEARNING SAMPLES\n",
    "# file_name, extension = 'sample', '.pkl'\n",
    "\n",
    "# path = '/scratch/datasets/retro_branching/strong_branching/explore_then_strong_branch/max_steps_None/nrows_100_ncols_100/samples/' # path where samples folders stored\n",
    "# new_path = path + '/aggregated_samples/' # path in which to aggregate sample files\n",
    "\n",
    "# path = '/scratch/datasets/retro_branching/strong_branching/pure_strong_branch/max_steps_3/nrows_500_ncols_1000/samples/'\n",
    "# new_path = path + '/aggregated_samples/'\n",
    "\n",
    "# path = '/scratch/datasets/retro_branching/imitation_branching/gnn_21_checkpoint_275/nrows_100_ncols_100/dual_bound_frac/gamma_0.99/samples/'\n",
    "# new_path = path + '/aggregated_samples/'\n",
    "\n",
    "# path = '/scratch/datasets/retro_branching/imitation_branching/gnn_21_checkpoint_275/nrows_500_ncols_1000/dual_bound_frac/gamma_0.99/samples/'\n",
    "# new_path = path + '/aggregated_samples/'\n",
    "\n",
    "# path = '/scratch/datasets/retro_branching/imitation_branching/strong_branching/nrows_100_ncols_100/normalised_lp_gain/gamma_0/obs_43_var_features/samples/'\n",
    "# new_path = path + '/aggregated_samples/'\n",
    "\n",
    "\n",
    "# NON-PRESOLVED INSTANCE SAMPLES\n",
    "file_name, extension = 'instance', '.mps'\n",
    "\n",
    "path = '/scratch/datasets/retro_branching/instances/training/nrows_100_ncols_100/scip_params_default/threshold_difficulty_None/threshold_agent_None/samples/'\n",
    "new_path = path + '/aggregated_samples/'\n",
    "\n",
    "\n",
    "\n",
    "\n",
    "pathlib.Path(new_path).mkdir(parents=True, exist_ok=True)\n",
    "paths = glob.glob(path+'samples_*')\n",
    "print(paths)\n",
    "\n",
    "total = 0\n",
    "for path in paths:\n",
    "    total += len(glob.glob(path+f'/*{extension}'))\n",
    "    \n",
    "pbar = tqdm(total=total, desc='Moving files')\n",
    "sample_counter = len(glob.glob(new_path+f'/*{extension}')) # initialise num samples in new path\n",
    "for path in paths:\n",
    "    files = glob.glob(path+f'/*{extension}')\n",
    "    for file in files:\n",
    "        filename = f'{file_name}_{sample_counter}{extension}'\n",
    "        shutil.move(file, new_path+filename)\n",
    "        sample_counter += 1\n",
    "        pbar.update(1)\n",
    "print(f'Num samples collected: {sample_counter}')"
   ]
  },
  {
   "cell_type": "code",
   "execution_count": null,
   "metadata": {},
   "outputs": [],
   "source": [
    "# get num samples in new path\n",
    "files = glob.glob(new_path+f'/*{extension}')\n",
    "print(f'Num files in new path: {len(files)}')"
   ]
  },
  {
   "cell_type": "code",
   "execution_count": null,
   "metadata": {},
   "outputs": [],
   "source": [
    "# TODO: Delete old samples_*/ paths after sample files have been moved into aggregated_samples/ folder"
   ]
  }
 ],
 "metadata": {
  "kernelspec": {
   "display_name": "rlgnn",
   "language": "python",
   "name": "rlgnn"
  },
  "language_info": {
   "codemirror_mode": {
    "name": "ipython",
    "version": 3
   },
   "file_extension": ".py",
   "mimetype": "text/x-python",
   "name": "python",
   "nbconvert_exporter": "python",
   "pygments_lexer": "ipython3",
   "version": "3.7.10"
  }
 },
 "nbformat": 4,
 "nbformat_minor": 4
}
