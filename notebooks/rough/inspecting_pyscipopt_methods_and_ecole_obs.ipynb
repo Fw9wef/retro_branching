{
 "cells": [
  {
   "cell_type": "code",
   "execution_count": null,
   "metadata": {},
   "outputs": [],
   "source": [
    "import ecole\n",
    "from retro_branching.environments import EcoleBranching\n",
    "import numpy as np"
   ]
  },
  {
   "cell_type": "markdown",
   "metadata": {},
   "source": [
    "# Get objective coefficient values"
   ]
  },
  {
   "cell_type": "code",
   "execution_count": null,
   "metadata": {},
   "outputs": [],
   "source": [
    "seed = 0\n",
    "\n",
    "ecole.seed(seed)\n",
    "instances = ecole.instance.SetCoverGenerator(n_rows=100, n_cols=100, density=0.05)\n",
    "\n",
    "instance = next(instances)\n",
    "m = ecole.scip.Model.as_pyscipopt(instance)"
   ]
  },
  {
   "cell_type": "code",
   "execution_count": null,
   "metadata": {},
   "outputs": [],
   "source": [
    "obj = m.getObjective()\n",
    "obj_coeffs = [obj[term] for term in obj]\n",
    "print(obj)\n",
    "print(obj_coeffs)"
   ]
  },
  {
   "cell_type": "code",
   "execution_count": null,
   "metadata": {
    "scrolled": true
   },
   "outputs": [],
   "source": [
    "for var in obj:\n",
    "    print(type(var), var, var.vartuple, var.ptrtuple, var.hashval, obj[var], type(obj[var]))"
   ]
  },
  {
   "cell_type": "code",
   "execution_count": null,
   "metadata": {
    "scrolled": true
   },
   "outputs": [],
   "source": [
    "model_vars = m.getVars()\n",
    "print(model_vars)\n",
    "for var in model_vars:\n",
    "    print(var, var.getObj(), obj[var])"
   ]
  },
  {
   "cell_type": "code",
   "execution_count": null,
   "metadata": {},
   "outputs": [],
   "source": []
  },
  {
   "cell_type": "markdown",
   "metadata": {},
   "source": [
    "# Looking at Ecole obs for different problems"
   ]
  },
  {
   "cell_type": "code",
   "execution_count": null,
   "metadata": {},
   "outputs": [],
   "source": [
    "env = EcoleBranching(observation_function='default')\n",
    "seed = 0"
   ]
  },
  {
   "cell_type": "code",
   "execution_count": null,
   "metadata": {},
   "outputs": [],
   "source": [
    "def summarise_obs(obs):\n",
    "    print(f'Variable (column) matrix: {obs.column_features.shape} | # variable nodes = {obs.column_features.shape[0]} | # feats = {obs.column_features.shape[1]}')\n",
    "    print(f'Constraint (row) matrix: {obs.row_features.shape} | # constraint nodes = {obs.row_features.shape[0]} | # feats = {obs.row_features.shape[1]}')\n",
    "    print(f'Edge matrix: {obs.edge_features.shape} | # LHS nodes = {obs.edge_features.shape[0]} | # RHS nodes = {obs.edge_features.shape[1]}')\n",
    "    print(f'Unique edge features: {np.unique(obs.edge_features.values)}')\n",
    "    \n",
    "\n",
    "# SET COVER\n",
    "ecole.seed(seed)\n",
    "n_rows, n_cols = 100, 100\n",
    "instances = ecole.instance.SetCoverGenerator(n_rows=n_rows, n_cols=n_cols, density=0.05)\n",
    "done = True\n",
    "while done:\n",
    "    instance = next(instances)\n",
    "    env.seed(seed)\n",
    "    obs, action_set, reward, done, info = env.reset(instance)\n",
    "print(f'\\nSet Cover (n_rows={n_rows}, n_cols={n_cols})')\n",
    "summarise_obs(obs)\n",
    "\n",
    "# MAXIMUM INDEPENDENT SET\n",
    "ecole.seed(seed)\n",
    "n_nodes = 100\n",
    "instances = ecole.instance.IndependentSetGenerator(n_nodes=n_nodes)\n",
    "done = True\n",
    "while done:\n",
    "    instance = next(instances)\n",
    "    env.seed(seed)\n",
    "    obs, action_set, reward, done, info = env.reset(instance)\n",
    "print(f'\\nMaximum Independent Set (n_nodes={n_nodes})')\n",
    "summarise_obs(obs)\n",
    "\n",
    "# COMBINATORIAL AUCTION\n",
    "ecole.seed(seed)\n",
    "n_items, n_bids = 10, 20\n",
    "instances = ecole.instance.CombinatorialAuctionGenerator(n_items=n_items, n_bids=n_bids)\n",
    "done = True\n",
    "while done:\n",
    "    instance = next(instances)\n",
    "    env.seed(seed)\n",
    "    obs, action_set, reward, done, info = env.reset(instance)\n",
    "print(f'\\nCombinatorial Auction (n_items={n_items}, n_bids={n_bids})')\n",
    "summarise_obs(obs)\n",
    "\n",
    "# CAPACITATED FACILITY LOCATION\n",
    "ecole.seed(seed)\n",
    "n_customers, n_facilities = 15, 10\n",
    "instances = ecole.instance.CapacitatedFacilityLocationGenerator(n_customers=n_customers, n_facilities=n_facilities)\n",
    "done = True\n",
    "while done:\n",
    "    instance = next(instances)\n",
    "    env.seed(seed)\n",
    "    obs, action_set, reward, done, info = env.reset(instance)\n",
    "print(f'\\nCapacitated Facility Location (n_customers={n_customers}, n_facilities={n_facilities})')\n",
    "summarise_obs(obs)"
   ]
  },
  {
   "cell_type": "code",
   "execution_count": null,
   "metadata": {},
   "outputs": [],
   "source": []
  },
  {
   "cell_type": "code",
   "execution_count": null,
   "metadata": {},
   "outputs": [],
   "source": [
    "import pickle\n",
    "import gzip\n",
    "import numpy as np\n",
    "\n",
    "file = '/scratch/datasets/retro_branching/instances/set_covering_n_rows_500_n_cols_1000/baselines/gnn_343_checkpoint_233/rl_validator/rl_validator_1/checkpoint_11/episodes_log.pkl'\n",
    "with gzip.open(file, 'rb') as f:\n",
    "    log = pickle.load(f)\n",
    "agent_name = log['agent_names'][0]\n",
    "\n",
    "# get number of nodes achieved for each instance\n",
    "num_nodes_for_each_instance = [np.abs(np.sum(episode_nodes)) for episode_nodes in log[agent_name]['num_nodes']]\n",
    "print(num_nodes_for_each_instance)\n",
    "print(np.mean(num_nodes_for_each_instance))\n",
    "print({idx: nodes for idx, nodes in enumerate(num_nodes_for_each_instance)})"
   ]
  },
  {
   "cell_type": "code",
   "execution_count": null,
   "metadata": {},
   "outputs": [],
   "source": []
  }
 ],
 "metadata": {
  "kernelspec": {
   "display_name": "rlgnn",
   "language": "python",
   "name": "rlgnn"
  },
  "language_info": {
   "codemirror_mode": {
    "name": "ipython",
    "version": 3
   },
   "file_extension": ".py",
   "mimetype": "text/x-python",
   "name": "python",
   "nbconvert_exporter": "python",
   "pygments_lexer": "ipython3",
   "version": "3.7.10"
  }
 },
 "nbformat": 4,
 "nbformat_minor": 4
}
