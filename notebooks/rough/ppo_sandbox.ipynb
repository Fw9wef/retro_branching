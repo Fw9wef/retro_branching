{
 "cells": [
  {
   "cell_type": "code",
   "execution_count": null,
   "metadata": {},
   "outputs": [],
   "source": [
    "%load_ext autoreload\n",
    "%autoreload\n",
    "\n",
    "from retro_branching.agents import PPOAgent\n",
    "from retro_branching.learners import PPOLearner\n",
    "from retro_branching.networks import BipartiteGCN\n",
    "from retro_branching.environments import EcoleBranching\n",
    "from retro_branching.utils import seed_stochastic_modules_globally\n",
    "\n",
    "import ecole"
   ]
  },
  {
   "cell_type": "code",
   "execution_count": null,
   "metadata": {},
   "outputs": [],
   "source": [
    "%autoreload\n",
    "\n",
    "seed = 0\n",
    "seed_stochastic_modules_globally(seed)"
   ]
  },
  {
   "cell_type": "code",
   "execution_count": null,
   "metadata": {},
   "outputs": [],
   "source": [
    "%autoreload\n",
    "\n",
    "device = 'cuda:0'\n",
    "\n",
    "actor_network = BipartiteGCN(device=device,\n",
    "                        emb_size=64,\n",
    "                        num_rounds=1,\n",
    "                        cons_nfeats=5,\n",
    "                        edge_nfeats=1, \n",
    "                        var_nfeats=23, # 19 20 28 45 40 43 29 37 23\n",
    "                        aggregator='add',\n",
    "                        activation='inverse_leaky_relu',\n",
    "                        num_heads=1, # 1 2\n",
    "                        # num_heads=2, # 1 2\n",
    "                        # head_depth=1, # 1 2\n",
    "                        head_depth=2, # 1 2\n",
    "                        linear_weight_init=None,\n",
    "                        linear_bias_init=None,\n",
    "                        layernorm_weight_init=None,\n",
    "                        layernorm_bias_init=None,\n",
    "                        head_aggregator='add', # 'add'\n",
    "                        # head_aggregator={'train': None, 'test': 0}, # 'add'\n",
    "                        include_edge_features=True, \n",
    "                        profile_time=False) # None 'add'\n",
    "\n",
    "critic_network = BipartiteGCN(device=device,\n",
    "                        emb_size=64,\n",
    "                        num_rounds=1,\n",
    "                        cons_nfeats=5,\n",
    "                        edge_nfeats=1, \n",
    "                        var_nfeats=23, # 19 20 28 45 40 43 29 37 23\n",
    "                        aggregator='add',\n",
    "                        activation='inverse_leaky_relu',\n",
    "                        num_heads=1, # 1 2\n",
    "                        # num_heads=2, # 1 2\n",
    "                        # head_depth=1, # 1 2\n",
    "                        head_depth=2, # 1 2\n",
    "                        linear_weight_init=None,\n",
    "                        linear_bias_init=None,\n",
    "                        layernorm_weight_init=None,\n",
    "                        layernorm_bias_init=None,\n",
    "                        head_aggregator='add', # 'add'\n",
    "                        # head_aggregator={'train': None, 'test': 0}, # 'add'\n",
    "                        include_edge_features=True, \n",
    "                        profile_time=False) # None 'add'\n",
    "\n",
    "agent = PPOAgent(device=device,\n",
    "                 actor_network=actor_network,\n",
    "                 critic_network=critic_network)\n",
    "agent.train()"
   ]
  },
  {
   "cell_type": "code",
   "execution_count": null,
   "metadata": {},
   "outputs": [],
   "source": [
    "env = EcoleBranching(observation_function='custom_var_features')\n",
    "\n",
    "ecole.seed(seed)\n",
    "instances = ecole.instance.SetCoverGenerator(n_rows=100, n_cols=100)"
   ]
  },
  {
   "cell_type": "code",
   "execution_count": null,
   "metadata": {},
   "outputs": [],
   "source": [
    "learner = PPOLearner(agent=agent,\n",
    "                     env=env,\n",
    "                     instances=instances)\n",
    "learner.train(5)"
   ]
  },
  {
   "cell_type": "code",
   "execution_count": null,
   "metadata": {},
   "outputs": [],
   "source": []
  }
 ],
 "metadata": {
  "kernelspec": {
   "display_name": "rlgnn",
   "language": "python",
   "name": "rlgnn"
  },
  "language_info": {
   "codemirror_mode": {
    "name": "ipython",
    "version": 3
   },
   "file_extension": ".py",
   "mimetype": "text/x-python",
   "name": "python",
   "nbconvert_exporter": "python",
   "pygments_lexer": "ipython3",
   "version": "3.7.10"
  }
 },
 "nbformat": 4,
 "nbformat_minor": 4
}
