{
 "cells": [
  {
   "cell_type": "code",
   "execution_count": null,
   "metadata": {},
   "outputs": [],
   "source": [
    "import ecole\n",
    "\n",
    "import time\n",
    "import numpy as np\n",
    "import random\n",
    "import torch"
   ]
  },
  {
   "cell_type": "markdown",
   "metadata": {},
   "source": [
    "# Utils"
   ]
  },
  {
   "cell_type": "code",
   "execution_count": null,
   "metadata": {},
   "outputs": [],
   "source": [
    "def seed_stochastic_modules_globally(default_seed=0, \n",
    "                                     numpy_seed=None, \n",
    "                                     random_seed=None, \n",
    "                                     torch_seed=None, \n",
    "                                     ecole_seed=None):\n",
    "    '''Seeds any stochastic modules so get reproducible results.'''\n",
    "    if numpy_seed is None:\n",
    "        numpy_seed = default_seed\n",
    "    if random_seed is None:\n",
    "        random_seed = default_seed\n",
    "    if torch_seed is None:\n",
    "        torch_seed = default_seed\n",
    "    if ecole_seed is None:\n",
    "        ecole_seed = default_seed\n",
    "\n",
    "    np.random.seed(numpy_seed)\n",
    "\n",
    "    random.seed(random_seed)\n",
    "\n",
    "    torch.manual_seed(torch_seed)\n",
    "    torch.cuda.manual_seed(torch_seed)\n",
    "    torch.cuda.manual_seed_all(torch_seed)\n",
    "    torch.backends.cudnn.benchmark = False\n",
    "    torch.backends.cudnn.deterministic = True\n",
    "\n",
    "    ecole.seed(ecole_seed)"
   ]
  },
  {
   "cell_type": "markdown",
   "metadata": {},
   "source": [
    "# Agent"
   ]
  },
  {
   "cell_type": "code",
   "execution_count": null,
   "metadata": {},
   "outputs": [],
   "source": [
    "class RandomAgent:\n",
    "    def __init__(self, name='random'):\n",
    "        self.name = name\n",
    "\n",
    "    def before_reset(self, model):\n",
    "        pass\n",
    "\n",
    "    def action_select(self, action_set, **kwargs):\n",
    "        action_idx = np.random.choice([i for i in range(len(action_set))])\n",
    "        return action_set[action_idx], action_idx"
   ]
  },
  {
   "cell_type": "markdown",
   "metadata": {},
   "source": [
    "# Environment"
   ]
  },
  {
   "cell_type": "code",
   "execution_count": null,
   "metadata": {},
   "outputs": [],
   "source": [
    "class EcoleBranching(ecole.environment.Branching):\n",
    "    def __init__(\n",
    "        self,\n",
    "        observation_function='default',\n",
    "        information_function='default',\n",
    "        reward_function='default',\n",
    "        scip_params='default',\n",
    "        pseudo_candidates=False,\n",
    "    ):\n",
    "        self.pseudo_candidates = pseudo_candidates\n",
    "\n",
    "        # init functions from strings if needed\n",
    "        if reward_function == 'default':\n",
    "            reward_function = ({\n",
    "                     'num_nodes': -ecole.reward.NNodes(),\n",
    "                     'lp_iterations': -ecole.reward.LpIterations(),\n",
    "                     'solving_time': -ecole.reward.SolvingTime(),\n",
    "                 })\n",
    "        if information_function == 'default':\n",
    "            information_function=({\n",
    "                     'num_nodes': ecole.reward.NNodes().cumsum(),\n",
    "                     'lp_iterations': ecole.reward.LpIterations().cumsum(),\n",
    "                     'solving_time': ecole.reward.SolvingTime().cumsum(),\n",
    "                 })\n",
    "        if observation_function == 'default':    \n",
    "            observation_function = (ecole.observation.NodeBipartite())\n",
    "        if scip_params == 'default':\n",
    "            scip_params = {'separating/maxrounds': 0,\n",
    "                           'separating/maxroundsroot': 0,\n",
    "                           'separating/maxcuts': 0,\n",
    "                           'separating/maxcutsroot': 0,\n",
    "                           'presolving/maxrounds': 0,\n",
    "                           'presolving/maxrestarts': 0,\n",
    "                           'propagating/maxrounds':0,\n",
    "                           'propagating/maxroundsroot':0,\n",
    "                           'lp/initalgorithm':'d',\n",
    "                           'lp/resolvealgorithm':'d',\n",
    "                           'limits/time': 3600}\n",
    "\n",
    "        super(EcoleBranching, self).__init__(\n",
    "            observation_function=observation_function,\n",
    "            information_function=information_function,\n",
    "            reward_function=reward_function,\n",
    "            scip_params=scip_params,\n",
    "            pseudo_candidates=pseudo_candidates,\n",
    "        )"
   ]
  },
  {
   "cell_type": "markdown",
   "metadata": {},
   "source": [
    "# Example run"
   ]
  },
  {
   "cell_type": "code",
   "execution_count": null,
   "metadata": {},
   "outputs": [],
   "source": [
    "# seeding\n",
    "seed = 0\n",
    "seed_stochastic_modules_globally(seed)\n",
    "\n",
    "\n",
    "# init set covering MILP instances, branch-and-bound env, and branching agent\n",
    "instances = ecole.instance.SetCoverGenerator(n_rows=100, n_cols=100, density=0.05)\n",
    "env = EcoleBranching(observation_function='default',\n",
    "                     information_function='default',\n",
    "                     reward_function='default',\n",
    "                     scip_params='default')\n",
    "agent = RandomAgent()\n",
    "\n",
    "# solve MILP instances\n",
    "instances_to_solve = 5\n",
    "instance_stats = {'num_nodes': [], 'solving_time': []}\n",
    "instances_solved, done = 0, True\n",
    "while instances_solved < instances_to_solve:\n",
    "    # reset env\n",
    "    while done:\n",
    "        env.seed(seed)\n",
    "        instance = next(instances)\n",
    "        agent.before_reset(instance)\n",
    "        obs, action_set, reward, done, info = env.reset(instance)\n",
    "        \n",
    "    print(env.__dict__)\n",
    "        \n",
    "    # solve instance\n",
    "    while not done:\n",
    "        action, action_idx = agent.action_select(action_set)\n",
    "        obs, action_set, reward, done, info = env.step(action)\n",
    "    instances_solved += 1\n",
    "    print(f'Solved instance {instances_solved} of {instances_to_solve} | num_nodes: {info[\"num_nodes\"]} | solving_time: {info[\"solving_time\"]:.3f} s')\n",
    "        \n",
    "    # record stats\n",
    "    instance_stats['num_nodes'].append(info['num_nodes'])\n",
    "    instance_stats['solving_time'].append(info['solving_time'])\n",
    "    \n",
    "print(f'mean num_nodes: {np.mean(instance_stats[\"num_nodes\"])} | {np.mean(instance_stats[\"solving_time\"]):.3f} s')"
   ]
  },
  {
   "cell_type": "code",
   "execution_count": null,
   "metadata": {},
   "outputs": [],
   "source": []
  }
 ],
 "metadata": {
  "kernelspec": {
   "display_name": "rlgnn",
   "language": "python",
   "name": "rlgnn"
  },
  "language_info": {
   "codemirror_mode": {
    "name": "ipython",
    "version": 3
   },
   "file_extension": ".py",
   "mimetype": "text/x-python",
   "name": "python",
   "nbconvert_exporter": "python",
   "pygments_lexer": "ipython3",
   "version": "3.7.10"
  }
 },
 "nbformat": 4,
 "nbformat_minor": 4
}
