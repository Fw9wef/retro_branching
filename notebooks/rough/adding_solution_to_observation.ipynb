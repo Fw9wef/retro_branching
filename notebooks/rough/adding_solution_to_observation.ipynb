{
 "cells": [
  {
   "cell_type": "markdown",
   "metadata": {},
   "source": [
    "If we pre-solve an instance before giving it to the agent, then at each step include the final solution's variable values in the variable features we give to the NN, does this at least improve the agent? \n",
    "\n",
    "Ideally we want to show that the agent can beat strong branching and/or Gasse et al. 2019 imitation_100k. By including the final solution variable values in the observation features, hope is that agent can learn that e.g. branching decisions which would result in bounding the variable values away from optimum value are poor. This assumes that the agent can learn these dynamics \n",
    "\n",
    " "
   ]
  },
  {
   "cell_type": "code",
   "execution_count": null,
   "metadata": {},
   "outputs": [],
   "source": [
    "%load_ext autoreload\n",
    "%autoreload\n",
    "from retro_branching.environments import EcoleBranching, EcoleConfiguring\n",
    "from retro_branching.agents import StrongBranchingAgent, PseudocostBranchingAgent\n",
    "\n",
    "import ecole\n",
    "import numpy as np"
   ]
  },
  {
   "cell_type": "markdown",
   "metadata": {},
   "source": [
    "First, lets check that solving an instance with EcoleConfiguring leads to the same result as using e.g. strong branching in our normal ecole branching environment. If it does, then it is valid to use EcoleConfiguring to pre-solve, which will be faster."
   ]
  },
  {
   "cell_type": "code",
   "execution_count": null,
   "metadata": {},
   "outputs": [],
   "source": [
    "# agent\n",
    "agent = PseudocostBranchingAgent() # PseudocostBranchingAgent() StrongBranchingAgent()\n",
    "\n",
    "# envs\n",
    "env = EcoleBranching(observation_function='default',\n",
    "                      information_function='default',\n",
    "                      reward_function='default',\n",
    "                      scip_params='default')\n",
    "env.seed(0)\n",
    "configuring_env = EcoleConfiguring(observation_function='default',\n",
    "                                  information_function='default',\n",
    "                                  scip_params='default')\n",
    "configuring_env.seed(0)\n",
    "\n",
    "# instances\n",
    "instances = ecole.instance.SetCoverGenerator(n_rows=500, n_cols=1000, density=0.05)"
   ]
  },
  {
   "cell_type": "code",
   "execution_count": null,
   "metadata": {},
   "outputs": [],
   "source": [
    "num_episodes = 10\n",
    "for ep in range(num_episodes):\n",
    "    print(f'> Episode {ep} <')\n",
    "    \n",
    "    # find an instance not pre-solved by environment\n",
    "    obs = None\n",
    "    while obs is None:\n",
    "        env.seed(0)\n",
    "        instance = next(instances)\n",
    "        instance_before_reset = instance.copy_orig()\n",
    "        agent.before_reset(instance_before_reset.copy_orig())\n",
    "        obs, action_set, reward, done, info = env.reset(instance)\n",
    "    configuring_env.seed(0)\n",
    "    _, _, _, _, configuring_info = configuring_env.reset(instance_before_reset.copy_orig())\n",
    "    \n",
    "    # pre-solve instance with configuring env\n",
    "    _, _, _, _, configuring_info = configuring_env.step({})\n",
    "    \n",
    "    # solve instance with standard branching env\n",
    "    while not done:\n",
    "        action, action_idx = agent.action_select(action_set, env.model, done)\n",
    "        obs, action_set, reward, done, info = env.step(action)\n",
    "    \n",
    "    configuring_m = configuring_env.model.as_pyscipopt()\n",
    "    config_vars = configuring_m.getVars()\n",
    "    config_sol = configuring_m.getBestSol()\n",
    "    config_dual, config_primal, config_gap = configuring_m.getDualbound(), configuring_m.getPrimalbound(), configuring_m.getGap()\n",
    "    \n",
    "    m = env.model.as_pyscipopt()\n",
    "    branching_vars = m.getVars()\n",
    "    branching_sol = m.getBestSol()\n",
    "    branching_dual, branching_primal,branching_gap = m.getDualbound(), m.getPrimalbound(), m.getGap()\n",
    "    \n",
    "    print('Configuring env num_nodes: {} | dual: {} | primal: {} | gap: {}'.format(configuring_info['num_nodes'], config_dual, config_primal, config_gap))\n",
    "    print('Branching env num_nodes: {} | dual: {} | primal: {} | gap: {}'.format(info['num_nodes'], branching_dual, branching_primal, branching_gap))\n",
    "    \n",
    "    for config_var, branching_var in zip(config_vars, branching_vars):\n",
    "        print('config/branching var {}/{}: configuring env={}, branching_env={} -> equal={}'.format(config_var, branching_var, config_sol[config_var], branching_sol[branching_var], config_sol[config_var] == branching_sol[branching_var]))\n",
    "        if config_sol[config_var] != branching_sol[branching_var]:\n",
    "            raise Exception('Diff vals found')"
   ]
  },
  {
   "cell_type": "markdown",
   "metadata": {},
   "source": [
    "From above study, found that around 20-30% of the time, final solution variable values are different for the same instance (but optimality i.e. primal and dual bound are same), so some problems can have different optimum solutions. This is fine, but does mean certain branching decisions which would be labelled as 'bad' by our pre-solving labelling method may actually not be bad (but we're just guiding agent by labelling obs with one possible solution, so doesn't really matter).\n",
    "\n",
    "On the whole, confident that can use the EcoleConfiguring() environment to pre-solve the problems."
   ]
  },
  {
   "cell_type": "code",
   "execution_count": null,
   "metadata": {},
   "outputs": [],
   "source": [
    "num_episodes = 1\n",
    "for ep in range(num_episodes):\n",
    "    print(f'> Episode {ep} <')\n",
    "    \n",
    "    # find an instance not pre-solved by environment\n",
    "    obs = None\n",
    "    while obs is None:\n",
    "        env.seed(0)\n",
    "        instance = next(instances)\n",
    "        instance_before_reset = instance.copy_orig()\n",
    "        agent.before_reset(instance_before_reset.copy_orig())\n",
    "        obs, action_set, reward, done, info = env.reset(instance)\n",
    "    configuring_env.seed(0)\n",
    "    _, _, _, _, _ = configuring_env.reset(instance_before_reset.copy_orig())\n",
    "    \n",
    "    # pre-solve instance with configuring env\n",
    "    _, _, _, _, _ = configuring_env.step({})\n",
    "    \n",
    "    # label vars in obs with final solution values\n",
    "    m = configuring_env.model.as_pyscipopt()\n",
    "    solution = m.getBestSol()\n",
    "    sol_vals = np.array([solution[var] for var in m.getVars()]).T\n",
    "    obs.column_features = np.column_stack((obs.column_features, sol_vals))\n",
    "    \n",
    "    "
   ]
  },
  {
   "cell_type": "markdown",
   "metadata": {},
   "source": [
    "Have implemented the above in retro_branching. Sanity checking...."
   ]
  },
  {
   "cell_type": "code",
   "execution_count": null,
   "metadata": {},
   "outputs": [],
   "source": [
    "%autoreload\n",
    "from retro_branching.environments import EcoleBranching, EcoleConfiguring\n",
    "\n",
    "# normal env no labeling\n",
    "env = EcoleBranching()\n",
    "env.seed(0)\n",
    "obs, action_set, reward, done, info = env.reset(instance_before_reset.copy_orig())\n",
    "\n",
    "# env w/ labeling\n",
    "env2 = EcoleBranching(observation_function='label_solution_values')\n",
    "env2.seed(0)\n",
    "obs2, action_set2, reward2, done2, info2 = env2.reset(instance_before_reset.copy_orig())"
   ]
  },
  {
   "cell_type": "code",
   "execution_count": null,
   "metadata": {},
   "outputs": [],
   "source": [
    "print(f'env w/o labeling: {obs.column_features.shape} | env w/ labeling: {obs2.column_features.shape}')"
   ]
  },
  {
   "cell_type": "markdown",
   "metadata": {},
   "source": [
    " Check that assinging env2 variable values would solve env instance"
   ]
  },
  {
   "cell_type": "code",
   "execution_count": null,
   "metadata": {},
   "outputs": [],
   "source": [
    "# get pre-solved solution objective value\n",
    "presolve_solution = env2.observation_function.presolve_solution\n",
    "print(f'Pre-solved solution objective value: {env2.observation_function.presolve_m.getSolObjVal(presolve_solution)}')\n",
    "\n",
    "# check pre-solved solution objective value in normal env\n",
    "m = env.model.as_pyscipopt()\n",
    "print(f'Pre-solved solution objective value in normal env: {m.getSolObjVal(presolve_solution)}')\n",
    "\n",
    "# # assign values to env solution and check that they solve the problem\n",
    "# m = env.model.as_pyscipopt()\n",
    "# print(f'dual/primal/gap: {m.getDualbound()} {m.getPrimalbound()} {m.getGap()}')\n",
    "# sol = m.getBestSol()\n",
    "# for var in m.getVars():\n",
    "#     print(f'Setting variable {var} to {presolve_solution[var]}')\n",
    "#     m.setSolVal(sol, var, presolve_solution[var])\n",
    "# print(f'dual/primal/gap: {m.getDualbound()} {m.getPrimalbound()} {m.getGap()}')"
   ]
  },
  {
   "cell_type": "markdown",
   "metadata": {},
   "source": [
    "As shown, objective function values are the same, so can be confident we have correctly labelled the variables with their final values and that ordering etc. hasn't changed."
   ]
  },
  {
   "cell_type": "code",
   "execution_count": null,
   "metadata": {},
   "outputs": [],
   "source": []
  }
 ],
 "metadata": {
  "kernelspec": {
   "display_name": "rlgnn",
   "language": "python",
   "name": "rlgnn"
  },
  "language_info": {
   "codemirror_mode": {
    "name": "ipython",
    "version": 3
   },
   "file_extension": ".py",
   "mimetype": "text/x-python",
   "name": "python",
   "nbconvert_exporter": "python",
   "pygments_lexer": "ipython3",
   "version": "3.7.10"
  }
 },
 "nbformat": 4,
 "nbformat_minor": 4
}
