{
 "cells": [
  {
   "cell_type": "markdown",
   "metadata": {},
   "source": [
    "Implementing DQN brancher."
   ]
  },
  {
   "cell_type": "code",
   "execution_count": null,
   "metadata": {},
   "outputs": [],
   "source": [
    "%load_ext autoreload\n",
    "%autoreload\n",
    "from retro_branching.agents import DQNAgent\n",
    "from retro_branching.environments import EcoleBranching\n",
    "from retro_branching.learners import DQNLearner\n",
    "from retro_branching.networks import BipartiteGCN\n",
    "\n",
    "import ecole"
   ]
  },
  {
   "cell_type": "code",
   "execution_count": null,
   "metadata": {},
   "outputs": [],
   "source": [
    "%autoreload\n",
    "\n",
    "# agent\n",
    "agent = DQNAgent(device='cuda:1')\n",
    "\n",
    "# env\n",
    "env = EcoleBranching(observation_function='default',\n",
    "                      information_function='default',\n",
    "                      reward_function='default',\n",
    "                      scip_params='default')\n",
    "env.seed(0)\n",
    "\n",
    "# instances\n",
    "instances = ecole.instance.SetCoverGenerator(n_rows=100, n_cols=100, density=0.05)"
   ]
  },
  {
   "cell_type": "code",
   "execution_count": null,
   "metadata": {},
   "outputs": [],
   "source": [
    "%autoreload\n",
    "\n",
    "num_episodes = 1\n",
    "for ep in range(num_episodes):\n",
    "    print(f'> Episode {ep} <')\n",
    "    \n",
    "    # find an instance not pre-solved by environment\n",
    "    obs = None\n",
    "    while obs is None:\n",
    "        env.seed(0)\n",
    "        instance = next(instances)\n",
    "        instance_before_reset = instance.copy_orig()\n",
    "        agent.before_reset(instance_before_reset.copy_orig())\n",
    "        obs, action_set, reward, done, info = env.reset(instance)\n",
    "        \n",
    "    while not done:\n",
    "        action, action_idx = agent.action_select(action_set, obs)\n",
    "        obs, action_set, reward, done, info = env.step(action)"
   ]
  },
  {
   "cell_type": "code",
   "execution_count": null,
   "metadata": {
    "scrolled": true
   },
   "outputs": [],
   "source": [
    "%autoreload\n",
    "\n",
    "device = 'cuda:1'\n",
    "\n",
    "value_network = BipartiteGCN(device=device,\n",
    "                             emb_size=64,\n",
    "                             num_rounds=1,\n",
    "                             cons_nfeats=5,\n",
    "                             edge_nfeats=1,\n",
    "                             var_nfeats=19,\n",
    "                             aggregator='add')\n",
    "\n",
    "agent = DQNAgent(device=device,\n",
    "                 value_network=value_network,\n",
    "                 name='rl_gnn')\n",
    "\n",
    "learner = DQNLearner(agent=agent,\n",
    "                     env=env,\n",
    "                     instances=instances,\n",
    "                     buffer_capacity=100,\n",
    "                     buffer_min_length=100,\n",
    "                     update_target_frequency=500,\n",
    "                     seed=0,\n",
    "                     batch_size=32,\n",
    "                     agent_reward='num_nodes',\n",
    "                     lr=1e-4,\n",
    "                     gamma=0.99,\n",
    "                     initial_epsilon=1,\n",
    "                     final_epsilon=0.05,\n",
    "                     final_epsilon_episode=50000,\n",
    "                     threshold_difficulty=None,\n",
    "                     max_steps=int(1e5),\n",
    "                     episode_log_frequency=1,\n",
    "                     name='dqn_learner')\n",
    "\n",
    "learner.train(2e5)"
   ]
  },
  {
   "cell_type": "code",
   "execution_count": null,
   "metadata": {},
   "outputs": [],
   "source": [
    "print(learner.episodes_log.keys())"
   ]
  },
  {
   "cell_type": "code",
   "execution_count": null,
   "metadata": {},
   "outputs": [],
   "source": [
    "import numpy as np\n",
    "\n",
    "print(np.array(learner.episodes_log['num_nodes']).shape)"
   ]
  },
  {
   "cell_type": "code",
   "execution_count": null,
   "metadata": {},
   "outputs": [],
   "source": [
    "import matplotlib.pyplot as plt\n",
    "\n",
    "plt.plot(range(len(learner.episodes_log['num_nodes'])), learner.episodes_log['num_nodes'])\n",
    "plt.show()"
   ]
  },
  {
   "cell_type": "markdown",
   "metadata": {},
   "source": [
    "Lets try to implement batching"
   ]
  },
  {
   "cell_type": "code",
   "execution_count": null,
   "metadata": {},
   "outputs": [],
   "source": [
    "import torch\n",
    "import torch.nn.functional as F\n",
    "import torch_geometric\n",
    "from torch_geometric.data import Batch, Data"
   ]
  },
  {
   "cell_type": "markdown",
   "metadata": {},
   "source": [
    "First, we need to format the observation of bipartite data from `ecole` into a format that `pytorch_geometric` can handle."
   ]
  },
  {
   "cell_type": "code",
   "execution_count": null,
   "metadata": {},
   "outputs": [],
   "source": [
    "class BipartiteNodeData(torch_geometric.data.Data):\n",
    "    \"\"\"\n",
    "    This class encode a node bipartite graph observation as returned by the `ecole.observation.NodeBipartite` \n",
    "    observation function in a format understood by the pytorch geometric data handlers.\n",
    "    \"\"\"\n",
    "    def __init__(self, constraint_features, edge_indices, edge_features, variable_features,\n",
    "                 candidates):\n",
    "        super().__init__()\n",
    "        self.constraint_features = torch.FloatTensor(constraint_features)\n",
    "        self.edge_index = torch.LongTensor(edge_indices.astype(np.int64))\n",
    "        self.edge_attr = torch.FloatTensor(edge_features).unsqueeze(1)\n",
    "        self.variable_features = torch.FloatTensor(variable_features)\n",
    "        self.candidates = candidates\n",
    "        \n",
    "        self.num_candidates = len(candidates)\n",
    "        self.num_variables = self.variable_features.size(0)\n",
    "        self.num_nodes = self.constraint_features.size(0) + self.variable_features.size(0)\n",
    "\n",
    "    def __inc__(self, key, value):\n",
    "        \"\"\"\n",
    "        We overload the pytorch geometric method that tells how to increment indices when concatenating graphs \n",
    "        for those entries (edge index, candidates) for which this is not obvious. This\n",
    "        enables batching.\n",
    "        \"\"\"\n",
    "        if key == 'edge_index':\n",
    "            # constraint nodes connected via edge to variable nodes\n",
    "            return torch.tensor([[self.constraint_features.size(0)], [self.variable_features.size(0)]])\n",
    "        elif key == 'candidates':\n",
    "            # actions are variable nodes\n",
    "            return self.variable_features.size(0)\n",
    "        else:\n",
    "            return super().__inc__(key, value)"
   ]
  },
  {
   "cell_type": "code",
   "execution_count": null,
   "metadata": {},
   "outputs": [],
   "source": [
    "print(obs.row_features.shape, obs.edge_features.indices.shape, obs.edge_features.values.shape, obs.column_features.shape, action_set.shape)"
   ]
  },
  {
   "cell_type": "code",
   "execution_count": null,
   "metadata": {},
   "outputs": [],
   "source": [
    "data = BipartiteNodeData(obs.row_features, obs.edge_features.indices, obs.edge_features.values, obs.column_features, action_set)\n",
    "print(data)"
   ]
  },
  {
   "cell_type": "code",
   "execution_count": null,
   "metadata": {},
   "outputs": [],
   "source": [
    "batch = Batch.from_data_list([data])\n",
    "print(batch)\n",
    "print(type(batch))"
   ]
  },
  {
   "cell_type": "code",
   "execution_count": null,
   "metadata": {},
   "outputs": [],
   "source": []
  }
 ],
 "metadata": {
  "kernelspec": {
   "display_name": "rlgnn",
   "language": "python",
   "name": "rlgnn"
  },
  "language_info": {
   "codemirror_mode": {
    "name": "ipython",
    "version": 3
   },
   "file_extension": ".py",
   "mimetype": "text/x-python",
   "name": "python",
   "nbconvert_exporter": "python",
   "pygments_lexer": "ipython3",
   "version": "3.7.10"
  }
 },
 "nbformat": 4,
 "nbformat_minor": 4
}
