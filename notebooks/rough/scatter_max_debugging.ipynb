{
 "cells": [
  {
   "cell_type": "code",
   "execution_count": null,
   "metadata": {},
   "outputs": [],
   "source": [
    "import torch\n",
    "from torch_scatter import scatter_max\n",
    "import time\n",
    "import numpy as np\n",
    "\n",
    "\n",
    "# TEST 1\n",
    "\n",
    "\n",
    "\n",
    "# TEST 2\n",
    "n = 10000\n",
    "times = []\n",
    "for _ in range(10):\n",
    "    x = torch.randn((n, 1)).float().cuda()\n",
    "    for \n",
    "    b = torch.LongTensor([idx for ]).long().cuda()\n",
    "    t = time.time()\n",
    "    action_vals, actions = scatter_max(x, b, dim=0)\n",
    "    times.append(time.time() - t)"
   ]
  },
  {
   "cell_type": "code",
   "execution_count": null,
   "metadata": {},
   "outputs": [],
   "source": [
    "print(f'Test 2 time: {np.mean(times)*1e3} ms')"
   ]
  },
  {
   "cell_type": "code",
   "execution_count": null,
   "metadata": {},
   "outputs": [],
   "source": [
    "print(torch.min(b), torch.max(b))"
   ]
  },
  {
   "cell_type": "code",
   "execution_count": null,
   "metadata": {},
   "outputs": [],
   "source": []
  }
 ],
 "metadata": {
  "kernelspec": {
   "display_name": "rlgnn",
   "language": "python",
   "name": "rlgnn"
  },
  "language_info": {
   "codemirror_mode": {
    "name": "ipython",
    "version": 3
   },
   "file_extension": ".py",
   "mimetype": "text/x-python",
   "name": "python",
   "nbconvert_exporter": "python",
   "pygments_lexer": "ipython3",
   "version": "3.7.10"
  }
 },
 "nbformat": 4,
 "nbformat_minor": 4
}
