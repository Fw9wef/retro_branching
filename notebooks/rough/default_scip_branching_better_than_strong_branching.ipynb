{
 "cells": [
  {
   "cell_type": "code",
   "execution_count": null,
   "metadata": {},
   "outputs": [],
   "source": [
    "import ecole"
   ]
  },
  {
   "cell_type": "code",
   "execution_count": null,
   "metadata": {},
   "outputs": [],
   "source": [
    "default_scip_params = {'separating/maxrounds': 0,\n",
    "                         'separating/maxroundsroot': 0,\n",
    "                         'separating/maxcuts': 0,\n",
    "                         'separating/maxcutsroot': 0,\n",
    "                         'presolving/maxrounds': 0,\n",
    "                         'presolving/maxrestarts': 0,\n",
    "                         'propagating/maxrounds':0,\n",
    "                         'propagating/maxroundsroot':0,\n",
    "                         'lp/initalgorithm':'d',\n",
    "                         'lp/resolvealgorithm':'d',\n",
    "                         'limits/time': 3600}\n",
    "\n",
    "class EcoleBranching(ecole.environment.Branching):\n",
    "    def __init__(\n",
    "        self,\n",
    "        observation_function='default',\n",
    "        information_function='default',\n",
    "        reward_function='default',\n",
    "        scip_params='default',\n",
    "        pseudo_candidates=False,\n",
    "    ):\n",
    "        self.pseudo_candidates = pseudo_candidates\n",
    "\n",
    "        # init functions from strings if needed\n",
    "        if reward_function == 'default':\n",
    "            reward_function = ({\n",
    "                     'num_nodes': -ecole.reward.NNodes(),\n",
    "                     'lp_iterations': -ecole.reward.LpIterations(),\n",
    "                     'solving_time': -ecole.reward.SolvingTime(),\n",
    "                 })\n",
    "        if information_function == 'default':\n",
    "            information_function=({\n",
    "                     'num_nodes': ecole.reward.NNodes().cumsum(),\n",
    "                     'lp_iterations': ecole.reward.LpIterations().cumsum(),\n",
    "                     'solving_time': ecole.reward.SolvingTime().cumsum(),\n",
    "                 })\n",
    "        if observation_function == 'default':    \n",
    "            observation_function = (ecole.observation.NodeBipartite())\n",
    "        if scip_params == 'default':\n",
    "            scip_params = default_scip_params\n",
    "        \n",
    "        super(EcoleBranching, self).__init__(\n",
    "            observation_function=observation_function,\n",
    "            information_function=information_function,\n",
    "            reward_function=reward_function,\n",
    "            scip_params=scip_params,\n",
    "            pseudo_candidates=pseudo_candidates,\n",
    "        )\n",
    "        \n",
    "class EcoleConfiguring(ecole.environment.Configuring):\n",
    "    def __init__(self,\n",
    "                 observation_function='default',\n",
    "                 information_function='default',\n",
    "                 scip_params='default'):\n",
    "\n",
    "        # init functions from strings if needed\n",
    "        if observation_function == 'default':    \n",
    "            observation_function=None\n",
    "        if information_function == 'default':\n",
    "            information_function=({\n",
    "                     'num_nodes': ecole.reward.NNodes().cumsum(),\n",
    "                     'lp_iterations': ecole.reward.LpIterations().cumsum(),\n",
    "                     'solving_time': ecole.reward.SolvingTime().cumsum(),\n",
    "                 })\n",
    "        if scip_params == 'default':\n",
    "            scip_params = default_scip_params\n",
    "\n",
    "        super(EcoleConfiguring, self).__init__(observation_function=observation_function,\n",
    "                                                                       information_function=information_function,\n",
    "                                                                       scip_params=scip_params)"
   ]
  },
  {
   "cell_type": "code",
   "execution_count": null,
   "metadata": {},
   "outputs": [],
   "source": [
    "num_instances = 10\n",
    "seed = 0"
   ]
  },
  {
   "cell_type": "markdown",
   "metadata": {},
   "source": [
    "# Default SCIP Branching"
   ]
  },
  {
   "cell_type": "code",
   "execution_count": null,
   "metadata": {},
   "outputs": [],
   "source": [
    "ecole.seed(seed)\n",
    "\n",
    "env = EcoleConfiguring(observation_function='default',\n",
    "                                  information_function='default',\n",
    "                                  scip_params='default')\n",
    "\n",
    "instances = ecole.instance.SetCoverGenerator(n_rows=500, n_cols=1000, density=0.05)"
   ]
  },
  {
   "cell_type": "code",
   "execution_count": null,
   "metadata": {},
   "outputs": [],
   "source": [
    "for i in range(num_instances):\n",
    "    done = True\n",
    "    while done:\n",
    "        # find instance which is not pre-solved\n",
    "        instance = next(instances)\n",
    "        env.seed(seed)\n",
    "        obs, action_set, reward, done, info = env.reset(instance)\n",
    "    \n",
    "    obs, action_set, reward, done, info = env.step({})\n",
    "    print(f'Instance {i+1} num nodes with default SCIP: {info[\"num_nodes\"]}')"
   ]
  },
  {
   "cell_type": "markdown",
   "metadata": {},
   "source": [
    "# Strong Branching"
   ]
  },
  {
   "cell_type": "code",
   "execution_count": null,
   "metadata": {},
   "outputs": [],
   "source": [
    "class StrongBranchingAgent:\n",
    "    def __init__(self, pseudo_candidates=False, name='sb'):\n",
    "        self.name = name\n",
    "        self.pseudo_candidates = pseudo_candidates\n",
    "        self.strong_branching_function = ecole.observation.StrongBranchingScores(pseudo_candidates=pseudo_candidates)\n",
    "\n",
    "    def before_reset(self, model):\n",
    "        \"\"\"\n",
    "        This function will be called at initialization of the environment (before dynamics are reset).\n",
    "        \"\"\"\n",
    "        self.strong_branching_function.before_reset(model)\n",
    "    \n",
    "    def extract(self, model, done):\n",
    "        return self.strong_branching_function.extract(model, done)\n",
    "\n",
    "    def action_select(self, action_set, model, done, **kwargs):\n",
    "        scores = self.extract(model, done)\n",
    "        action_idx = scores[action_set].argmax()\n",
    "        return action_set[action_idx], action_idx\n",
    "    \n",
    "agent = StrongBranchingAgent()\n",
    "\n",
    "ecole.seed(seed)\n",
    "\n",
    "env = EcoleBranching(observation_function='default',\n",
    "                      information_function='default',\n",
    "                      reward_function='default',\n",
    "                      scip_params='default')\n",
    "\n",
    "instances = ecole.instance.SetCoverGenerator(n_rows=500, n_cols=1000, density=0.05)"
   ]
  },
  {
   "cell_type": "code",
   "execution_count": null,
   "metadata": {},
   "outputs": [],
   "source": [
    "for i in range(num_instances):\n",
    "    done = True\n",
    "    while done:\n",
    "        # find instance which is not pre-solved\n",
    "        instance = next(instances)\n",
    "        agent.before_reset(instance)\n",
    "        env.seed(seed)\n",
    "        obs, action_set, reward, done, info = env.reset(instance)\n",
    "    \n",
    "    while not done:\n",
    "        action, action_idx = agent.action_select(action_set=action_set, model=env.model, done=done)\n",
    "        obs, action_set, reward, done, info = env.step(action)\n",
    "    print(f'Instance {i+1} num nodes with Strong Branching: {info[\"num_nodes\"]}')"
   ]
  },
  {
   "cell_type": "code",
   "execution_count": null,
   "metadata": {},
   "outputs": [],
   "source": []
  }
 ],
 "metadata": {
  "kernelspec": {
   "display_name": "rlgnn",
   "language": "python",
   "name": "rlgnn"
  },
  "language_info": {
   "codemirror_mode": {
    "name": "ipython",
    "version": 3
   },
   "file_extension": ".py",
   "mimetype": "text/x-python",
   "name": "python",
   "nbconvert_exporter": "python",
   "pygments_lexer": "ipython3",
   "version": "3.7.10"
  }
 },
 "nbformat": 4,
 "nbformat_minor": 4
}
