{
 "cells": [
  {
   "cell_type": "markdown",
   "metadata": {},
   "source": [
    "Notebook for generating specific instace. Useful for e.g. writing an mps file which different scripts etc. can access to train and/or test on."
   ]
  },
  {
   "cell_type": "code",
   "execution_count": null,
   "metadata": {},
   "outputs": [],
   "source": [
    "import ecole\n",
    "from retro_branching.environments import EcoleConfiguring, EcoleBranching\n",
    "\n",
    "\n",
    "\n",
    "env = EcoleBranching()\n",
    "env.seed(0)\n",
    "\n",
    "def gen_instance(instances, env, min_difficulty=None, max_difficulty=None, max_attempts=10000):\n",
    "    '''Generates instance which can return an observation which is not None on env.reset() (i.e. not pre-solved).'''\n",
    "    if min_difficulty is not None or max_difficulty is not None:\n",
    "        # init env for evaluating instance difficulty\n",
    "        scip_env = EcoleConfiguring()\n",
    "    \n",
    "    counter = 1\n",
    "    while True:\n",
    "        print('Attempts: {}'.format(counter))\n",
    "        instance = next(instances)\n",
    "        obs, action_set, reward, done, info = env.reset(instance)\n",
    "        if obs is not None:\n",
    "            if min_difficulty is not None or max_difficulty is not None:\n",
    "                if min_difficulty is None:\n",
    "                    min_difficulty = -float('inf')\n",
    "                if max_difficulty is None:\n",
    "                    max_difficulty = float('inf')\n",
    "                # check difficulty using scip solver\n",
    "                scip_env.reset(instance)\n",
    "                _, _, _, _, scip_info = scip_env.step({})\n",
    "                if scip_info['num_nodes'] <= max_difficulty and scip_info['num_nodes'] >= min_difficulty:\n",
    "                    return instance\n",
    "            else:                    \n",
    "                return instance\n",
    "        counter += 1\n",
    "        if counter > max_attempts:\n",
    "            raise Exception('Unable to generate valid instance after {} attempts.'.format(max_attempts))\n"
   ]
  },
  {
   "cell_type": "code",
   "execution_count": null,
   "metadata": {},
   "outputs": [],
   "source": [
    "# instances = ecole.instance.SetCoverGenerator(n_rows=100, n_cols=100, density=0.05)\n",
    "instances = ecole.instance.SetCoverGenerator(n_rows=500, n_cols=1000, density=0.05)\n",
    "\n",
    "env = EcoleBranching()\n",
    "env.seed(0)\n",
    "\n",
    "instance = gen_instance(instances,\n",
    "                        env,\n",
    "                        min_difficulty=None,\n",
    "                        max_difficulty=1)"
   ]
  },
  {
   "cell_type": "code",
   "execution_count": null,
   "metadata": {},
   "outputs": [],
   "source": [
    "# write instance to mps file\n",
    "# instance.write_problem('instance_nrows100_ncols100_density005.mps')\n",
    "instance.write_problem('instance_nrows500_ncols1000_density005.mps')"
   ]
  },
  {
   "cell_type": "code",
   "execution_count": null,
   "metadata": {},
   "outputs": [],
   "source": [
    "print(type(instance))\n",
    "print(type(instances))"
   ]
  },
  {
   "cell_type": "code",
   "execution_count": null,
   "metadata": {},
   "outputs": [],
   "source": [
    "print(type(instance) == ecole.core.scip.Model)"
   ]
  },
  {
   "cell_type": "code",
   "execution_count": null,
   "metadata": {},
   "outputs": [],
   "source": []
  }
 ],
 "metadata": {
  "kernelspec": {
   "display_name": "rlgnn",
   "language": "python",
   "name": "rlgnn"
  },
  "language_info": {
   "codemirror_mode": {
    "name": "ipython",
    "version": 3
   },
   "file_extension": ".py",
   "mimetype": "text/x-python",
   "name": "python",
   "nbconvert_exporter": "python",
   "pygments_lexer": "ipython3",
   "version": "3.7.10"
  }
 },
 "nbformat": 4,
 "nbformat_minor": 4
}
