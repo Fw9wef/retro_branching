{
 "cells": [
  {
   "cell_type": "markdown",
   "metadata": {},
   "source": [
    "Checking general difficulty of 4 different CO classes."
   ]
  },
  {
   "cell_type": "code",
   "execution_count": null,
   "metadata": {},
   "outputs": [],
   "source": [
    "%load_ext autoreload\n",
    "%autoreload\n",
    "from retro_branching.environments import EcoleBranching, EcoleConfiguring\n",
    "from retro_branching.agents import StrongBranchingAgent, PseudocostBranchingAgent, RandomAgent\n",
    "from retro_branching.utils import seed_stochastic_modules_globally\n",
    "from retro_branching.rewards import NormalisedLPGain\n",
    "\n",
    "import ecole\n",
    "import numpy as np\n",
    "import random\n",
    "import copy\n",
    "import time\n",
    "\n",
    "import networkx as nx\n",
    "from networkx.algorithms.shortest_paths.generic import shortest_path\n",
    "from networkx.algorithms.traversal.depth_first_search import dfs_tree\n",
    "from networkx.drawing.nx_pydot import graphviz_layout\n",
    "import matplotlib.pyplot as plt\n",
    "\n",
    "seed = 0\n",
    "seed_stochastic_modules_globally(default_seed=seed)"
   ]
  },
  {
   "cell_type": "code",
   "execution_count": null,
   "metadata": {},
   "outputs": [],
   "source": [
    "%autoreload\n",
    "agent = StrongBranchingAgent()\n",
    "\n",
    "env = EcoleBranching(observation_function='default',\n",
    "                      information_function='default',\n",
    "                      reward_function='default',\n",
    "                      scip_params='gasse_2019')\n",
    "env.seed(seed)\n",
    "\n",
    "co_classes = {'set_covering': ecole.instance.SetCoverGenerator(n_rows=500, n_cols=1000, density=0.05),\n",
    "                'combinatorial_auction': ecole.instance.CombinatorialAuctionGenerator(n_items=100, n_bids=500),\n",
    "                'capacitated_facility_location': ecole.instance.CapacitatedFacilityLocationGenerator(n_customers=100, n_facilities=100),\n",
    "                'maximum_independent_set': ecole.instance.IndependentSetGenerator(n_nodes=100)}\n",
    "\n",
    "num_tests = 5"
   ]
  },
  {
   "cell_type": "code",
   "execution_count": null,
   "metadata": {},
   "outputs": [],
   "source": [
    "co_class_stats = {key: {'num_nodes': [], 'solving_time': []} for key in co_classes.keys()}\n",
    "\n",
    "for co_class in co_classes.keys():\n",
    "    print(f'\\n >> Solving {num_tests} {co_class} instances... <<')\n",
    "    num_episodes = 0\n",
    "    done = True\n",
    "    while num_episodes < num_tests:\n",
    "        # reset env\n",
    "        print(f'Resetting {co_class} instance...')\n",
    "        while done:\n",
    "            env.seed(seed)\n",
    "            instance = next(co_classes[co_class])\n",
    "            agent.before_reset(instance)\n",
    "            obs, action_set, reward, done, info = env.reset(instance)\n",
    "            \n",
    "        # solve instance\n",
    "        print(f'{co_class} instance reset. Solving instance...')\n",
    "        start_t = time.time()\n",
    "        while not done:\n",
    "            action, action_idx = agent.action_select(action_set, model=env.model, done=done)\n",
    "            obs, action_set, reward, done, info = env.step(action)\n",
    "\n",
    "        # record stats\n",
    "        solving_time = time.time() - start_t\n",
    "        num_nodes = info['num_nodes']\n",
    "        num_episodes += 1\n",
    "        print(f'{co_class} instance {num_episodes} of {num_tests} solved in {solving_time:.3f} s with {num_nodes} nodes')\n",
    "        co_class_stats[co_class]['num_nodes'].append(num_nodes)\n",
    "        co_class_stats[co_class]['solving_time'].append(solving_time)"
   ]
  },
  {
   "cell_type": "code",
   "execution_count": null,
   "metadata": {},
   "outputs": [],
   "source": [
    "for co_class in co_class_stats.keys():\n",
    "    print(f'{co_class} | mean num_nodes: {np.mean(co_class_stats[co_class][\"num_nodes\"])} | mean solving_time: {np.mean(co_class_stats[co_class][\"solving_time\"]):.3f} s')"
   ]
  },
  {
   "cell_type": "code",
   "execution_count": null,
   "metadata": {},
   "outputs": [],
   "source": []
  }
 ],
 "metadata": {
  "kernelspec": {
   "display_name": "rlgnn",
   "language": "python",
   "name": "rlgnn"
  },
  "language_info": {
   "codemirror_mode": {
    "name": "ipython",
    "version": 3
   },
   "file_extension": ".py",
   "mimetype": "text/x-python",
   "name": "python",
   "nbconvert_exporter": "python",
   "pygments_lexer": "ipython3",
   "version": "3.7.10"
  }
 },
 "nbformat": 4,
 "nbformat_minor": 4
}
