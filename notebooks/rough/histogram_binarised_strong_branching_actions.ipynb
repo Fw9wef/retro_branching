{
 "cells": [
  {
   "cell_type": "markdown",
   "metadata": {},
   "source": [
    "Set 0 < alpha < 1. Give a set of sb_scores, for each score, if score >= (1-alpha) X max(sb_scores), label as 1, else label as 0. E.g. if alpha=0.2, scores which are within 20% of the top SB score will be labelled 1, all others labelled 0 \n",
    "\n",
    "Idea is that we want to filter out 'poor' (as determined by dual bound reduction i.e. strong branching) actions from the agent's action space so that agent action space is small whilst still enabling it to follow promising trajectories. At alpha=0, all actions will be filtered. At action=1, all actions will be made available. Therefore, we want to have an idea of how big the agent's action space would be using different values of alpha.\n"
   ]
  },
  {
   "cell_type": "code",
   "execution_count": null,
   "metadata": {},
   "outputs": [],
   "source": [
    "import numpy as np\n",
    "import glob\n",
    "import pickle\n",
    "import gzip\n",
    "import seaborn as sns\n",
    "import matplotlib.pyplot as plt\n",
    "from tqdm import tqdm"
   ]
  },
  {
   "cell_type": "code",
   "execution_count": null,
   "metadata": {},
   "outputs": [],
   "source": [
    "def conv_scores_to_bipartite_ranking(alpha, scores):\n",
    "    max_score = np.amax(scores)\n",
    "    threshold = (1-alpha) * max_score\n",
    "    return np.where(scores >= threshold, 1, 0)"
   ]
  },
  {
   "cell_type": "code",
   "execution_count": null,
   "metadata": {},
   "outputs": [],
   "source": [
    "num_samples = 5000\n",
    "nrows = 100\n",
    "ncols = 100\n",
    "branching = 'pure_strong_branch'\n",
    "max_steps = 3\n",
    "path = f'/scratch/datasets/retro_branching/strong_branching/{branching}/max_steps_{max_steps}/nrows_{nrows}_ncols_{ncols}/samples/aggregated_samples/'\n"
   ]
  },
  {
   "cell_type": "code",
   "execution_count": null,
   "metadata": {},
   "outputs": [],
   "source": [
    "files = np.array(glob.glob(path+'*.pkl'))[:num_samples]\n",
    "\n",
    "alphas = [0.1, 0.2, 0.3, 0.4, 0.5, 0.6, 0.7, 0.8, 0.9, 1.0]\n",
    "# alphas = [0.2, 0.5, 0.9]\n",
    "plot_dicts = {} # alpha to list of # actions for each sample\n",
    "\n",
    "pbar = tqdm(total=len(alphas)*len(files))\n",
    "pbar.set_description('Reading files')\n",
    "for alpha in alphas:\n",
    "    plot_dicts[alpha] = {'filtered_actions': []}\n",
    "    for file in files:\n",
    "        with gzip.open(file, 'rb') as f:\n",
    "            sample = pickle.load(f)\n",
    "            # get sb scores\n",
    "            action_set, scores = sample[2], sample[3]\n",
    "            scores = scores[action_set]\n",
    "            # remove nans\n",
    "            scores = scores[np.logical_not(np.isnan(scores))]\n",
    "            # binarise sb scores\n",
    "            scores = conv_scores_to_bipartite_ranking(alpha=alpha, scores=scores)\n",
    "            # record number of actions\n",
    "            plot_dicts[alpha]['filtered_actions'].append(np.count_nonzero(scores == 1))\n",
    "            pbar.update(1)"
   ]
  },
  {
   "cell_type": "code",
   "execution_count": null,
   "metadata": {
    "scrolled": false
   },
   "outputs": [],
   "source": [
    "for alpha in plot_dicts.keys():\n",
    "    for actions in plot_dicts[alpha].keys():\n",
    "        title = f'{actions} alpha={alpha}'\n",
    "        fig = plt.figure()\n",
    "        sns.histplot(plot_dicts[alpha][actions], edgecolor='k')\n",
    "        plt.title(title)\n",
    "        plt.xlabel('# Actions')\n",
    "        plt.show()"
   ]
  },
  {
   "cell_type": "code",
   "execution_count": null,
   "metadata": {},
   "outputs": [],
   "source": []
  }
 ],
 "metadata": {
  "kernelspec": {
   "display_name": "rlgnn",
   "language": "python",
   "name": "rlgnn"
  },
  "language_info": {
   "codemirror_mode": {
    "name": "ipython",
    "version": 3
   },
   "file_extension": ".py",
   "mimetype": "text/x-python",
   "name": "python",
   "nbconvert_exporter": "python",
   "pygments_lexer": "ipython3",
   "version": "3.7.10"
  }
 },
 "nbformat": 4,
 "nbformat_minor": 4
}
