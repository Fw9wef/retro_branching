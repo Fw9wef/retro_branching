{
 "cells": [
  {
   "cell_type": "markdown",
   "metadata": {},
   "source": [
    "Use this notebook for looking at replay buffer experiences."
   ]
  },
  {
   "cell_type": "code",
   "execution_count": null,
   "metadata": {},
   "outputs": [],
   "source": [
    "%load_ext autoreload\n",
    "%autoreload\n",
    "\n",
    "from retro_branching.learners import DQNLearner # need to be able to unpickle buffer\n",
    "\n",
    "import numpy as np\n",
    "import seaborn as sns\n",
    "import matplotlib.pyplot as plt\n",
    "import pandas as pd\n",
    "\n",
    "import pickle\n",
    "import gzip\n",
    "from collections import defaultdict"
   ]
  },
  {
   "cell_type": "code",
   "execution_count": null,
   "metadata": {},
   "outputs": [],
   "source": [
    "# path_to_buffer = '/scratch/datasets/retro_branching/debug/observation_default_replay_buffer.pkl'\n",
    "# path_to_buffer = '/scratch/datasets/retro_branching/debug/observation_28_var_features_replay_buffer.pkl'\n",
    "path_to_buffer = '/scratch/datasets/retro_branching/debug/observation_45_var_features_replay_buffer.pkl'\n",
    "\n",
    "with gzip.open(path_to_buffer, 'rb') as f:\n",
    "    buffer = pickle.load(f)\n",
    "print(f'Num experiences in buffer: {len(buffer)}')\n",
    "# print(f'\\nBuffer experiences: {buffer.buffer}')"
   ]
  },
  {
   "cell_type": "code",
   "execution_count": null,
   "metadata": {},
   "outputs": [],
   "source": [
    "feature_idx_to_val = defaultdict(lambda: [])\n",
    "for experience in buffer.buffer:\n",
    "    state = experience.state\n",
    "    obs = state.obs\n",
    "    var_features = obs.column_features\n",
    "    for var in var_features:\n",
    "        for idx, feat in enumerate(var):\n",
    "            feature_idx_to_val[idx].append(feat)\n",
    "print(f'Num experiences in buffer: {len(buffer)}')\n",
    "print(f'Num vars in each experience state: {state.num_variables}')\n",
    "print(f'Num features in each var: {len(feature_idx_to_val.keys())}')"
   ]
  },
  {
   "cell_type": "code",
   "execution_count": null,
   "metadata": {
    "scrolled": false
   },
   "outputs": [],
   "source": [
    "print(f'Summary for {path_to_buffer}')\n",
    "\n",
    "table = defaultdict(lambda: [])\n",
    "for feat_idx, feat_vals in feature_idx_to_val.items():\n",
    "    std, mean, _min, _max = np.std(feat_vals), np.mean(feat_vals), np.min(feat_vals), np.max(feat_vals)\n",
    "    sns.histplot(feat_vals, edgecolor='k')\n",
    "    plt.xlabel(f'Feature Value')\n",
    "    plt.title(f'Feature {feat_idx} | std={std:.2f} | mean={mean:.2f} | min={_min:.2f} | max={_max:.2f}')\n",
    "    plt.show()\n",
    "    \n",
    "    table['Feature'].append(feat_idx)\n",
    "    table['std'].append(std)\n",
    "    table['mean'].append(mean)\n",
    "    table['min'].append(_min)\n",
    "    table['max'].append(_max)\n",
    "\n",
    "print(pd.DataFrame(table))"
   ]
  },
  {
   "cell_type": "code",
   "execution_count": null,
   "metadata": {},
   "outputs": [],
   "source": []
  }
 ],
 "metadata": {
  "kernelspec": {
   "display_name": "rlgnn",
   "language": "python",
   "name": "rlgnn"
  },
  "language_info": {
   "codemirror_mode": {
    "name": "ipython",
    "version": 3
   },
   "file_extension": ".py",
   "mimetype": "text/x-python",
   "name": "python",
   "nbconvert_exporter": "python",
   "pygments_lexer": "ipython3",
   "version": "3.7.10"
  }
 },
 "nbformat": 4,
 "nbformat_minor": 4
}
